{
 "cells": [
  {
   "cell_type": "markdown",
   "metadata": {},
   "source": [
    "<h1>Gender in <i>The Simpsons</i></h1>\n",
    "\n",
    "Justin Lim (PI, Digital Humanities Student)\n",
    "\n",
    "Instructor: Adam Anderson, Ph.D\n",
    "\n",
    "Course: Digital Humanities 100 | Summer 2021\n",
    "\n",
    "<img src=\"images/couch_gags.gif\">\n",
    "<center> [gif credit: <a href= \"https://imgur.com/gallery/TsL9o\">imgur</a> ] </center>"
   ]
  },
  {
   "cell_type": "markdown",
   "metadata": {},
   "source": [
    "## Project Description:  ##\n",
    "\n",
    "As one of America’s most popular hit television shows-- aptly accredited with being the longest running show on air, today-- The Simpson’s responds to popular culture as much as it is a part of it. It’s thirty-two seasons have not only made references to global politics, but also celebrity gossip, natural disasters, and even other popular television shows. For more context on the show, <a href='https://en.wikipedia.org/wiki/The_Simpsons'>check out this Wikipedia article! </a> \n",
    "\n",
    "Based on its consistent place in popular culture, the stories and representations presented in The Simpson’s would be a great metric in measuring how progressive ideals are being normalized in the grand scheme of national culture. <b><u> Taking a specifically feminist critical viewpoint, this project explores representations of gender in the Fox television show, *The Simpsons*-- specifically analyzing trends in gender representation and comparing dialogue between groups. </u></b> As an important note of discretion, this project is confined to a binarical lens of gender due to the limitations of the dataset, yet does not subscribe to this viewpoint. "
   ]
  },
  {
   "cell_type": "markdown",
   "metadata": {},
   "source": [
    "## Table of Contents ##\n",
    "\n",
    "1. Python Libraries\n",
    "\n",
    "2. Exploratory Data Analysis\n",
    "\n",
    "3. Text Data Preprocessing\n",
    "\n",
    "4. Gender Distribution Over Time\n",
    "\n",
    "5. Comparing Dialogue\n",
    "    \n",
    "    1. Word Cloud\n",
    "    \n",
    "    1. Unigram Analysis\n",
    "    \n",
    "    1. Bigram Analysis\n",
    "    \n",
    "6. Topic Model\n",
    "\n",
    "7. Conclusions"
   ]
  },
  {
   "cell_type": "markdown",
   "metadata": {},
   "source": [
    "## Python Libraries ##\n",
    "\n",
    "Here, I import the libraries I need for my analysis.\n",
    "\n",
    "The first group of libraries help to clean, rearrange, and manage data. The second group of imports include the tools needed to create this notebook's visualizations; this includes: line plots, word clouds, histograms, topic models, etc. The second group of imports helps with textual analysis. These tools aid in text preprocessing, which prepares text data for analysis, as well as creating textual analysis models. Next, LatentDirichletAllocation is an unsupervised machine learning algorithm which helps us with finding topics in our data for our topic model. Furthermore, the pickle library is used to store models that whose code has long run times. I do this to prevent the long runtime of creating and fitting our models; however, the code is still provided below-- just commented out-- to follow along."
   ]
  },
  {
   "cell_type": "code",
   "execution_count": 55,
   "metadata": {},
   "outputs": [],
   "source": [
    "# General imports\n",
    "import numpy as np \n",
    "import os\n",
    "import pandas as pd\n",
    "from collections import Counter # Count most common words\n",
    "import re # regular expressions\n",
    "\n",
    "# Visualization imports\n",
    "import matplotlib.pyplot as plt\n",
    "%matplotlib inline\n",
    "import seaborn as sns\n",
    "import pyLDAvis.sklearn # visualize our topic models!\n",
    "from wordcloud import WordCloud # Visualize word clouds \n",
    "\n",
    "# NLP imports\n",
    "import nltk # natural language toolkit\n",
    "from nltk.corpus import stopwords\n",
    "from nltk.corpus import movie_reviews # another dataset \n",
    "import string # for punctuation\n",
    "from sklearn.feature_extraction.text import CountVectorizer, TfidfVectorizer, TfidfTransformer # Tools to create our DTMs\n",
    "\n",
    "# Algorithms (unsupervised)\n",
    "from sklearn.decomposition import LatentDirichletAllocation\n",
    "# CV (multiple train/test splitting)\n",
    "from sklearn.model_selection import cross_val_score, train_test_split\n",
    "# (supervised)\n",
    "from sklearn.linear_model import LogisticRegression\n",
    "\n",
    "# To save large models\n",
    "import pickle\n",
    "\n",
    "# Remove warnings to make notebook prettier\n",
    "import warnings\n",
    "warnings.filterwarnings(\"ignore\")"
   ]
  },
  {
   "cell_type": "markdown",
   "metadata": {},
   "source": [
    "## Exploratory Data Analysis ##\n",
    "\n",
    "For this project, I use Prashant Banerjee's \"The Simpson's Dataset\" (2020) posted on Kaggle. This dataset was originally web-scraped by Tod Schneider from the following websites: “Simpson’s World”, a The Simpson’s wikipedia; Wikipedia; and IMDb. The dataset is split into four datasets: the character dataset, the episode dataset, the locations dataset, and the script lines dataset. Because the character dataset and the script dataset had information about characters, speaking lines, and gender, I focused my analysis on these two datasets."
   ]
  },
  {
   "cell_type": "code",
   "execution_count": 3,
   "metadata": {},
   "outputs": [],
   "source": [
    "# Import Dataframes\n",
    "s_script = pd.read_csv('simpsons_data/simpsons_script_lines.csv')\n",
    "s_char = pd.read_csv('simpsons_data/simpsons_characters.csv')"
   ]
  },
  {
   "cell_type": "markdown",
   "metadata": {},
   "source": [
    "Each dataset contains the following information:"
   ]
  },
  {
   "cell_type": "code",
   "execution_count": 4,
   "metadata": {},
   "outputs": [
    {
     "data": {
      "text/plain": [
       "['id',\n",
       " 'episode_id',\n",
       " 'number',\n",
       " 'raw_text',\n",
       " 'timestamp_in_ms',\n",
       " 'speaking_line',\n",
       " 'character_id',\n",
       " 'location_id',\n",
       " 'raw_character_text',\n",
       " 'raw_location_text',\n",
       " 'spoken_words',\n",
       " 'normalized_text',\n",
       " 'word_count']"
      ]
     },
     "execution_count": 4,
     "metadata": {},
     "output_type": "execute_result"
    }
   ],
   "source": [
    "list(s_script.columns)"
   ]
  },
  {
   "cell_type": "code",
   "execution_count": 5,
   "metadata": {},
   "outputs": [
    {
     "data": {
      "text/plain": [
       "['id', 'name', 'normalized_name', 'gender']"
      ]
     },
     "execution_count": 5,
     "metadata": {},
     "output_type": "execute_result"
    }
   ],
   "source": [
    "list(s_char.columns)"
   ]
  },
  {
   "cell_type": "markdown",
   "metadata": {},
   "source": [
    "For simplicity's sake, I merged these two tables into one and dropped the irrelevant columns."
   ]
  },
  {
   "cell_type": "code",
   "execution_count": 6,
   "metadata": {},
   "outputs": [
    {
     "data": {
      "text/html": [
       "<div>\n",
       "<style scoped>\n",
       "    .dataframe tbody tr th:only-of-type {\n",
       "        vertical-align: middle;\n",
       "    }\n",
       "\n",
       "    .dataframe tbody tr th {\n",
       "        vertical-align: top;\n",
       "    }\n",
       "\n",
       "    .dataframe thead th {\n",
       "        text-align: right;\n",
       "    }\n",
       "</style>\n",
       "<table border=\"1\" class=\"dataframe\">\n",
       "  <thead>\n",
       "    <tr style=\"text-align: right;\">\n",
       "      <th></th>\n",
       "      <th>episode_id</th>\n",
       "      <th>normalized_name</th>\n",
       "      <th>char_id</th>\n",
       "      <th>gender</th>\n",
       "      <th>line</th>\n",
       "      <th>timestamp_in_ms</th>\n",
       "      <th>raw_location_text</th>\n",
       "    </tr>\n",
       "  </thead>\n",
       "  <tbody>\n",
       "    <tr>\n",
       "      <th>0</th>\n",
       "      <td>32</td>\n",
       "      <td>miss hoover</td>\n",
       "      <td>464</td>\n",
       "      <td>f</td>\n",
       "      <td>No, actually, it was a little of both. Sometim...</td>\n",
       "      <td>848000</td>\n",
       "      <td>Springfield Elementary School</td>\n",
       "    </tr>\n",
       "    <tr>\n",
       "      <th>1</th>\n",
       "      <td>32</td>\n",
       "      <td>miss hoover</td>\n",
       "      <td>464</td>\n",
       "      <td>f</td>\n",
       "      <td>I don't know. Although I'd sure like to talk t...</td>\n",
       "      <td>856000</td>\n",
       "      <td>Springfield Elementary School</td>\n",
       "    </tr>\n",
       "    <tr>\n",
       "      <th>2</th>\n",
       "      <td>49</td>\n",
       "      <td>miss hoover</td>\n",
       "      <td>464</td>\n",
       "      <td>f</td>\n",
       "      <td>Thank you, Ralph. Very graphic. Lisa Simpson? ...</td>\n",
       "      <td>784000</td>\n",
       "      <td>Springfield Elementary School</td>\n",
       "    </tr>\n",
       "    <tr>\n",
       "      <th>3</th>\n",
       "      <td>49</td>\n",
       "      <td>miss hoover</td>\n",
       "      <td>464</td>\n",
       "      <td>f</td>\n",
       "      <td>Dear God!</td>\n",
       "      <td>803000</td>\n",
       "      <td>Springfield Elementary School</td>\n",
       "    </tr>\n",
       "    <tr>\n",
       "      <th>4</th>\n",
       "      <td>51</td>\n",
       "      <td>miss hoover</td>\n",
       "      <td>464</td>\n",
       "      <td>f</td>\n",
       "      <td>I question the educational value of this assem...</td>\n",
       "      <td>226000</td>\n",
       "      <td>Springfield Elementary School</td>\n",
       "    </tr>\n",
       "  </tbody>\n",
       "</table>\n",
       "</div>"
      ],
      "text/plain": [
       "   episode_id normalized_name  char_id gender  \\\n",
       "0          32     miss hoover      464      f   \n",
       "1          32     miss hoover      464      f   \n",
       "2          49     miss hoover      464      f   \n",
       "3          49     miss hoover      464      f   \n",
       "4          51     miss hoover      464      f   \n",
       "\n",
       "                                                line timestamp_in_ms  \\\n",
       "0  No, actually, it was a little of both. Sometim...          848000   \n",
       "1  I don't know. Although I'd sure like to talk t...          856000   \n",
       "2  Thank you, Ralph. Very graphic. Lisa Simpson? ...          784000   \n",
       "3                                          Dear God!          803000   \n",
       "4  I question the educational value of this assem...          226000   \n",
       "\n",
       "               raw_location_text  \n",
       "0  Springfield Elementary School  \n",
       "1  Springfield Elementary School  \n",
       "2  Springfield Elementary School  \n",
       "3  Springfield Elementary School  \n",
       "4  Springfield Elementary School  "
      ]
     },
     "execution_count": 6,
     "metadata": {},
     "output_type": "execute_result"
    }
   ],
   "source": [
    "# Create a dataframe that merges both script and the character information.\n",
    "# Now, we have the gender of each character, as well as their names, the timestamp\n",
    "# of their speaking lines, and their character id.\n",
    "\n",
    "script = s_script[['episode_id', \n",
    "                   'timestamp_in_ms',\n",
    "                   'raw_location_text',\n",
    "                   'raw_character_text', \n",
    "                   'spoken_words', \n",
    "                   'word_count']].rename(columns = {'raw_character_text': 'name', \n",
    "                                                    'spoken_words': 'line'})\n",
    "chars = s_char.dropna().rename(columns = {'id': 'char_id'})\n",
    "script_table = script.merge(chars)\n",
    "script_table = script_table[['episode_id', 'normalized_name', 'char_id', 'gender' , 'line', 'timestamp_in_ms', 'raw_location_text']]\n",
    "script_table.head()"
   ]
  },
  {
   "cell_type": "markdown",
   "metadata": {},
   "source": [
    "# Data Preprocessing #\n",
    "\n",
    "Next, we will be preprocessing our data!! We do this to improve the correctness of our models by standardizing the text data. To do this, we first split our data into our two desired groups. In this way, we can perform separate analyses and accurately perform comparisons. \n",
    "Then, our standardization steps include the following:\n",
    "1. Removing punctions\n",
    "2. Standardizing letter case (in this case, lowercase)\n",
    "3. Removing numbers"
   ]
  },
  {
   "cell_type": "code",
   "execution_count": 7,
   "metadata": {},
   "outputs": [],
   "source": [
    "# Separate table into gender groups\n",
    "w_table = script_table[script_table['gender'] == 'f']\n",
    "m_table = script_table[script_table['gender'] == 'm']\n",
    "\n",
    "text_w = w_table[['normalized_name', 'line']].reset_index().rename(index = str)\n",
    "text_m = m_table[['normalized_name', 'line']].reset_index().rename(index = str)\n",
    "\n",
    "# Remove punctuation\n",
    "text_w['text_processed'] = text_w['line'].map(lambda x: re.sub('[,\\.!?\\']', '', str(x)))\n",
    "text_m['text_processed'] = text_m['line'].map(lambda x: re.sub('[,\\.!?\\']', '', str(x)))\n",
    "\n",
    "# Convert to lowercase\n",
    "text_w['text_processed'] = text_w['text_processed'].str.lower()\n",
    "text_m['text_processed'] = text_m['text_processed'].str.lower()\n",
    "\n",
    "# Remove digits\n",
    "text_w['text_processed'] = text_w['text_processed'].str.replace('\\d+', '')\n",
    "text_m['text_processed'] = text_m['text_processed'].str.replace('\\d+', '')"
   ]
  },
  {
   "cell_type": "code",
   "execution_count": 8,
   "metadata": {},
   "outputs": [],
   "source": [
    "# Drop NA values in the text_processed column, they are unusable in analysis.\n",
    "text_w = text_w.dropna(subset= ['text_processed'])\n",
    "text_m = text_m.dropna(subset= ['text_processed'])"
   ]
  },
  {
   "cell_type": "markdown",
   "metadata": {},
   "source": [
    "For later analyses, we will also convert our processed texts into singular, long strings."
   ]
  },
  {
   "cell_type": "code",
   "execution_count": 9,
   "metadata": {},
   "outputs": [],
   "source": [
    "w_long = ','.join(text_w[\"text_processed\"].values)\n",
    "m_long = ','.join(text_m[\"text_processed\"].values)"
   ]
  },
  {
   "cell_type": "markdown",
   "metadata": {},
   "source": [
    "Let's print the beginning of one long string to see what they look like!"
   ]
  },
  {
   "cell_type": "code",
   "execution_count": 10,
   "metadata": {},
   "outputs": [
    {
     "data": {
      "text/plain": [
       "'no actually it was a little of both sometimes when a disease is in all the magazines and all the news shows its only natural that you think you have it,i dont know although id sure like to talk to him he didnt touch my lesson plan what did he teach you,thank you ralph very graphic lisa simpson would you like to read your essay,dear god,i question the educational value of this assembly,edna happy hour in the teachers lounge,wow \"a million poets working for a million years\" youre so lucky when are you gonna meet him,uh huh,were going to take a test,its called the career aptitude normalizing test or \"cant\",question sixty: i prefer the smell of a) gasoline; b) french fries; or c) bank customers\",since we have fifteen minutes until recess please put down your pencils and stare at the front of the room,now take some paste and spread it on the construction paper ralph are you eating your paste,good now sprinkle your sparkles on your paste lisa youre not sprinkling your sparkles,nan,now lets c'"
      ]
     },
     "execution_count": 10,
     "metadata": {},
     "output_type": "execute_result"
    }
   ],
   "source": [
    "w_long[:1000]"
   ]
  },
  {
   "cell_type": "markdown",
   "metadata": {},
   "source": [
    "There seems to still be some punctuation left over! Looking closer, we see that this is because the punctuation marks do not have spaces after them-- they are followed directly by the beginning of the word. From looking closer at our data, we can recognize which common punctuation marks got left behind and replace them, like below:"
   ]
  },
  {
   "cell_type": "code",
   "execution_count": 11,
   "metadata": {},
   "outputs": [],
   "source": [
    "# Record the common punctuation marks left behind\n",
    "punc = [',', '\"', ')', ';', ':']\n",
    "\n",
    "# Parse through string and remove them\n",
    "for mark in punc:\n",
    "    w_long = w_long.replace(mark, ' ')\n",
    "w_long = w_long.replace('  ', ' ')"
   ]
  },
  {
   "cell_type": "code",
   "execution_count": 12,
   "metadata": {},
   "outputs": [
    {
     "data": {
      "text/plain": [
       "'no actually it was a little of both sometimes when a disease is in all the magazines and all the news shows its only natural that you think you have it i dont know although id sure like to talk to him he didnt touch my lesson plan what did he teach you thank you ralph very graphic lisa simpson would you like to read your essay dear god i question the educational value of this assembly edna happy hour in the teachers lounge wow a million poets working for a million years youre so lucky when are you gonna meet him uh huh were going to take a test its called the career aptitude normalizing test or cant question sixty i prefer the smell of a gasoline b french fries or c bank customers since we have fifteen minutes until recess please put down your pencils and stare at the front of the room now take some paste and spread it on the construction paper ralph are you eating your paste good now sprinkle your sparkles on your paste lisa youre not sprinkling your sparkles nan now lets correct our '"
      ]
     },
     "execution_count": 12,
     "metadata": {},
     "output_type": "execute_result"
    }
   ],
   "source": [
    "w_long[:1000]"
   ]
  },
  {
   "cell_type": "markdown",
   "metadata": {},
   "source": [
    "That looks much better! Now, we will repeat the process with our other string, and then we'll be ready for to do our anaylsis. "
   ]
  },
  {
   "cell_type": "code",
   "execution_count": 13,
   "metadata": {},
   "outputs": [],
   "source": [
    "for mark in punc:\n",
    "    m_long = m_long.replace(mark, ' ')\n",
    "m_long = m_long.replace('  ', ' ')"
   ]
  },
  {
   "cell_type": "markdown",
   "metadata": {},
   "source": [
    "# Gender Distribution Over Time #\n",
    "\n",
    "Our analysis first consists of comparing the amount of space women occupy in the show compared to men. To do this, script table will be manipulated used *pandas* methods to output the number of speaking lines for women and men per episode. From there, calculations are made to output the proportion of each per episode. Lastly, this frequency table is visualized using the *matplotlib* library to show trends over time. \n",
    "\n",
    "As a long time fan, I believe that there will be an increase in female speaking roles. *The Simpsons* is a show which has kept close to pop culture, and with discussions about increased gender diversity becoming more normalized, I believe show writers will take note of it. However, in being a popular show, I believe this change will be small, if not barely significant. \n",
    "\n",
    "Below is a test I created with a small subset of the data; I did this to avoid the long runtime of using the entire dataset:"
   ]
  },
  {
   "cell_type": "code",
   "execution_count": 14,
   "metadata": {},
   "outputs": [
    {
     "data": {
      "text/html": [
       "<div>\n",
       "<style scoped>\n",
       "    .dataframe tbody tr th:only-of-type {\n",
       "        vertical-align: middle;\n",
       "    }\n",
       "\n",
       "    .dataframe tbody tr th {\n",
       "        vertical-align: top;\n",
       "    }\n",
       "\n",
       "    .dataframe thead th {\n",
       "        text-align: right;\n",
       "    }\n",
       "</style>\n",
       "<table border=\"1\" class=\"dataframe\">\n",
       "  <thead>\n",
       "    <tr style=\"text-align: right;\">\n",
       "      <th></th>\n",
       "      <th>episode_id</th>\n",
       "      <th>normalized_name</th>\n",
       "    </tr>\n",
       "    <tr>\n",
       "      <th>gender</th>\n",
       "      <th></th>\n",
       "      <th></th>\n",
       "    </tr>\n",
       "  </thead>\n",
       "  <tbody>\n",
       "    <tr>\n",
       "      <th>f</th>\n",
       "      <td>122</td>\n",
       "      <td>122</td>\n",
       "    </tr>\n",
       "    <tr>\n",
       "      <th>m</th>\n",
       "      <td>157</td>\n",
       "      <td>157</td>\n",
       "    </tr>\n",
       "  </tbody>\n",
       "</table>\n",
       "</div>"
      ],
      "text/plain": [
       "        episode_id  normalized_name\n",
       "gender                             \n",
       "f              122              122\n",
       "m              157              157"
      ]
     },
     "execution_count": 14,
     "metadata": {},
     "output_type": "execute_result"
    }
   ],
   "source": [
    "## Testing Idea\n",
    "\n",
    "# Keep only these columns\n",
    "test_32 = script_table[['episode_id', 'gender', 'normalized_name']]\n",
    "\n",
    "# Find all the values of episode 32\n",
    "test_32 = test_32[test_32['episode_id'] == 32]\n",
    "\n",
    "# Group values by the gender column, and count the \n",
    "# total size of each\n",
    "test_counts = test_32.groupby('gender').count()\n",
    "test_counts"
   ]
  },
  {
   "cell_type": "markdown",
   "metadata": {},
   "source": [
    "<img src='images/celebration.gif'>\n",
    "<center>[gif credit: <a href= https://giphy.com/gifs/season-3-the-simpsons-3x11-xT5LMQ8rHYTDGFG07e>giphy</a>]</center>\n",
    "\n",
    "It looks like our idea worked! Now to scale it onto the entire dataset."
   ]
  },
  {
   "cell_type": "code",
   "execution_count": 15,
   "metadata": {},
   "outputs": [
    {
     "data": {
      "text/html": [
       "<div>\n",
       "<style scoped>\n",
       "    .dataframe tbody tr th:only-of-type {\n",
       "        vertical-align: middle;\n",
       "    }\n",
       "\n",
       "    .dataframe tbody tr th {\n",
       "        vertical-align: top;\n",
       "    }\n",
       "\n",
       "    .dataframe thead th {\n",
       "        text-align: right;\n",
       "    }\n",
       "</style>\n",
       "<table border=\"1\" class=\"dataframe\">\n",
       "  <thead>\n",
       "    <tr style=\"text-align: right;\">\n",
       "      <th></th>\n",
       "      <th></th>\n",
       "      <th>normalized_name</th>\n",
       "    </tr>\n",
       "    <tr>\n",
       "      <th>episode_id</th>\n",
       "      <th>gender</th>\n",
       "      <th></th>\n",
       "    </tr>\n",
       "  </thead>\n",
       "  <tbody>\n",
       "    <tr>\n",
       "      <th rowspan=\"2\" valign=\"top\">1</th>\n",
       "      <th>f</th>\n",
       "      <td>89</td>\n",
       "    </tr>\n",
       "    <tr>\n",
       "      <th>m</th>\n",
       "      <td>230</td>\n",
       "    </tr>\n",
       "    <tr>\n",
       "      <th rowspan=\"2\" valign=\"top\">2</th>\n",
       "      <th>f</th>\n",
       "      <td>59</td>\n",
       "    </tr>\n",
       "    <tr>\n",
       "      <th>m</th>\n",
       "      <td>194</td>\n",
       "    </tr>\n",
       "    <tr>\n",
       "      <th>3</th>\n",
       "      <th>f</th>\n",
       "      <td>45</td>\n",
       "    </tr>\n",
       "  </tbody>\n",
       "</table>\n",
       "</div>"
      ],
      "text/plain": [
       "                   normalized_name\n",
       "episode_id gender                 \n",
       "1          f                    89\n",
       "           m                   230\n",
       "2          f                    59\n",
       "           m                   194\n",
       "3          f                    45"
      ]
     },
     "execution_count": 15,
     "metadata": {},
     "output_type": "execute_result"
    }
   ],
   "source": [
    "## Create counts table\n",
    "# 'gdt' stands for \"Gender Distribution Table\"\n",
    "gdt = script_table[['episode_id', 'gender', 'normalized_name']].sort_values(['episode_id'])\n",
    "counts_gdt = gdt.groupby(['episode_id', 'gender']).count()\n",
    "counts_gdt.head()"
   ]
  },
  {
   "cell_type": "code",
   "execution_count": 18,
   "metadata": {},
   "outputs": [
    {
     "data": {
      "text/html": [
       "<div>\n",
       "<style scoped>\n",
       "    .dataframe tbody tr th:only-of-type {\n",
       "        vertical-align: middle;\n",
       "    }\n",
       "\n",
       "    .dataframe tbody tr th {\n",
       "        vertical-align: top;\n",
       "    }\n",
       "\n",
       "    .dataframe thead th {\n",
       "        text-align: right;\n",
       "    }\n",
       "</style>\n",
       "<table border=\"1\" class=\"dataframe\">\n",
       "  <thead>\n",
       "    <tr style=\"text-align: right;\">\n",
       "      <th></th>\n",
       "      <th>index</th>\n",
       "      <th>womens_dist</th>\n",
       "      <th>mens_dist</th>\n",
       "      <th>total</th>\n",
       "    </tr>\n",
       "  </thead>\n",
       "  <tbody>\n",
       "    <tr>\n",
       "      <th>0</th>\n",
       "      <td>0</td>\n",
       "      <td>0.278997</td>\n",
       "      <td>0.721003</td>\n",
       "      <td>319</td>\n",
       "    </tr>\n",
       "    <tr>\n",
       "      <th>1</th>\n",
       "      <td>1</td>\n",
       "      <td>0.233202</td>\n",
       "      <td>0.766798</td>\n",
       "      <td>253</td>\n",
       "    </tr>\n",
       "    <tr>\n",
       "      <th>2</th>\n",
       "      <td>2</td>\n",
       "      <td>0.257143</td>\n",
       "      <td>0.742857</td>\n",
       "      <td>175</td>\n",
       "    </tr>\n",
       "    <tr>\n",
       "      <th>3</th>\n",
       "      <td>3</td>\n",
       "      <td>0.291045</td>\n",
       "      <td>0.708955</td>\n",
       "      <td>268</td>\n",
       "    </tr>\n",
       "    <tr>\n",
       "      <th>4</th>\n",
       "      <td>4</td>\n",
       "      <td>0.188755</td>\n",
       "      <td>0.811245</td>\n",
       "      <td>249</td>\n",
       "    </tr>\n",
       "  </tbody>\n",
       "</table>\n",
       "</div>"
      ],
      "text/plain": [
       "   index  womens_dist  mens_dist  total\n",
       "0      0     0.278997   0.721003    319\n",
       "1      1     0.233202   0.766798    253\n",
       "2      2     0.257143   0.742857    175\n",
       "3      3     0.291045   0.708955    268\n",
       "4      4     0.188755   0.811245    249"
      ]
     },
     "execution_count": 18,
     "metadata": {},
     "output_type": "execute_result"
    }
   ],
   "source": [
    "# Intialize empty strings to store count data\n",
    "w_dist = []\n",
    "m_dist = []\n",
    "\n",
    "# Set for loop to iterate through our count table, and place\n",
    "# the correct count value into each distribution.\n",
    "n = len(counts_gdt)\n",
    "for i in range(n):\n",
    "    if i % 2 == 0:\n",
    "        w_dist.append(counts_gdt.iloc[i][0])\n",
    "    else:\n",
    "        m_dist.append(counts_gdt.iloc[i][0])\n",
    "\n",
    "# Create a dataframe with count values, and calculate proportions       \n",
    "gdt_table = pd.DataFrame({'womens_dist': w_dist, 'mens_dist': m_dist}).reset_index()\n",
    "gdt_table['total'] = [a + b for a, b in zip(w_dist, m_dist)]\n",
    "gdt_table['womens_dist'] = gdt_table['womens_dist']/ gdt_table['total']\n",
    "gdt_table['mens_dist'] = gdt_table['mens_dist']/ gdt_table['total']\n",
    "gdt_table.head()"
   ]
  },
  {
   "cell_type": "markdown",
   "metadata": {},
   "source": [
    "Our table looks good! However, to double check the distribution data, the two columns will be added. If done correctly, they should add up to '1.0' or 100%."
   ]
  },
  {
   "cell_type": "code",
   "execution_count": 23,
   "metadata": {},
   "outputs": [
    {
     "data": {
      "text/html": [
       "<div>\n",
       "<style scoped>\n",
       "    .dataframe tbody tr th:only-of-type {\n",
       "        vertical-align: middle;\n",
       "    }\n",
       "\n",
       "    .dataframe tbody tr th {\n",
       "        vertical-align: top;\n",
       "    }\n",
       "\n",
       "    .dataframe thead th {\n",
       "        text-align: right;\n",
       "    }\n",
       "</style>\n",
       "<table border=\"1\" class=\"dataframe\">\n",
       "  <thead>\n",
       "    <tr style=\"text-align: right;\">\n",
       "      <th></th>\n",
       "      <th>index</th>\n",
       "      <th>womens_dist</th>\n",
       "      <th>mens_dist</th>\n",
       "      <th>total</th>\n",
       "    </tr>\n",
       "  </thead>\n",
       "  <tbody>\n",
       "    <tr>\n",
       "      <th>0</th>\n",
       "      <td>0</td>\n",
       "      <td>0.278997</td>\n",
       "      <td>0.721003</td>\n",
       "      <td>1.0</td>\n",
       "    </tr>\n",
       "    <tr>\n",
       "      <th>1</th>\n",
       "      <td>1</td>\n",
       "      <td>0.233202</td>\n",
       "      <td>0.766798</td>\n",
       "      <td>1.0</td>\n",
       "    </tr>\n",
       "    <tr>\n",
       "      <th>2</th>\n",
       "      <td>2</td>\n",
       "      <td>0.257143</td>\n",
       "      <td>0.742857</td>\n",
       "      <td>1.0</td>\n",
       "    </tr>\n",
       "    <tr>\n",
       "      <th>3</th>\n",
       "      <td>3</td>\n",
       "      <td>0.291045</td>\n",
       "      <td>0.708955</td>\n",
       "      <td>1.0</td>\n",
       "    </tr>\n",
       "    <tr>\n",
       "      <th>4</th>\n",
       "      <td>4</td>\n",
       "      <td>0.188755</td>\n",
       "      <td>0.811245</td>\n",
       "      <td>1.0</td>\n",
       "    </tr>\n",
       "  </tbody>\n",
       "</table>\n",
       "</div>"
      ],
      "text/plain": [
       "   index  womens_dist  mens_dist  total\n",
       "0      0     0.278997   0.721003    1.0\n",
       "1      1     0.233202   0.766798    1.0\n",
       "2      2     0.257143   0.742857    1.0\n",
       "3      3     0.291045   0.708955    1.0\n",
       "4      4     0.188755   0.811245    1.0"
      ]
     },
     "execution_count": 23,
     "metadata": {},
     "output_type": "execute_result"
    }
   ],
   "source": [
    "gdt_table['total'] = gdt_table['womens_dist'] + gdt_table['mens_dist']\n",
    "gdt_table.head()"
   ]
  },
  {
   "cell_type": "markdown",
   "metadata": {},
   "source": [
    "Now, we can visualize the results!"
   ]
  },
  {
   "cell_type": "code",
   "execution_count": 24,
   "metadata": {},
   "outputs": [
    {
     "data": {
      "image/png": "[encoded data removed]",
      "text/plain": [
       "<Figure size 432x288 with 1 Axes>"
      ]
     },
     "metadata": {
      "needs_background": "light"
     },
     "output_type": "display_data"
    }
   ],
   "source": [
    "## Graph Distributions\n",
    "\n",
    "# Set figure size\n",
    "plt.figure(figsize= (6,4))\n",
    "\n",
    "# Plot graph for women\n",
    "plt.plot(gdt_table['womens_dist'], label= 'Women dist')\n",
    "\n",
    "# Plot graph for men\n",
    "plt.plot(gdt_table['mens_dist'], label= 'Men dist')\n",
    "\n",
    "# Create axis labels\n",
    "plt.ylabel('Percentage of Speaking Lines Over Time')\n",
    "plt.xlabel('Time')\n",
    "\n",
    "# Create graph title\n",
    "plt.title('Percentage of Speaking Lines Per episode for each gender')\n",
    "\n",
    "# Create legend for each line\n",
    "plt.legend()\n",
    "plt.show();"
   ]
  },
  {
   "cell_type": "markdown",
   "metadata": {},
   "source": [
    "This graph is very overplotted; the overly numerous datapoints cloud any actual trends. To fix this, a function was constructed to average out a n-portions of the text at a time:"
   ]
  },
  {
   "cell_type": "code",
   "execution_count": 25,
   "metadata": {},
   "outputs": [
    {
     "data": {
      "image/png": "[encoded data removed]",
      "text/plain": [
       "<Figure size 432x288 with 1 Axes>"
      ]
     },
     "metadata": {
      "needs_background": "light"
     },
     "output_type": "display_data"
    }
   ],
   "source": [
    "## Define average function\n",
    "\n",
    "def create_avgs(tbl, n):\n",
    "    # Initialize empty lists for each group\n",
    "    w = []\n",
    "    m = []\n",
    "\n",
    "    # Parse through data, and average n-sized groups\n",
    "    i = 0\n",
    "    while i < len(tbl):\n",
    "        if i + n > len(tbl):\n",
    "            w.append(np.mean(tbl['womens_dist'][i:]))\n",
    "            m.append(np.mean(tbl['mens_dist'][i:]))\n",
    "        else:\n",
    "            w.append(np.mean(tbl['womens_dist'][i:i+n]))\n",
    "            m.append(np.mean(tbl['mens_dist'][i:i+n]))\n",
    "        i += n\n",
    "        \n",
    "    return w, m\n",
    "\n",
    "# Plot averaged values grouped per 10\n",
    "w_avgs, m_avgs = create_avgs(gdt_table, 10)\n",
    "\n",
    "plt.figure(figsize= (6,4))\n",
    "plt.plot(w_avgs, label= 'Womens dist')\n",
    "plt.plot(m_avgs, label= 'Mens dist')\n",
    "plt.ylabel('Percentage of Speaking Lines Over Time')\n",
    "plt.xlabel('Time')\n",
    "plt.title('Percentage of Speaking Lines Over Time for each gender (AVG 10)')\n",
    "plt.legend()\n",
    "plt.show();"
   ]
  },
  {
   "cell_type": "code",
   "execution_count": null,
   "metadata": {},
   "outputs": [],
   "source": [
    "# Plot averaged values grouped per 50\n",
    "w_avgs, m_avgs = create_avgs(gdt_table, 50)\n",
    "\n",
    "plt.figure(figsize= (6,4))\n",
    "plt.plot(w_avgs, label= 'Womens dist')\n",
    "plt.plot(m_avgs, label= 'Mens dist')\n",
    "plt.ylabel('Percentage of Speaking Lines Over Time')\n",
    "plt.xlabel('Time')\n",
    "plt.title('Percentage of Speaking Lines Over Time for each gender (AVG 50)')\n",
    "plt.legend()\n",
    "plt.show();"
   ]
  },
  {
   "cell_type": "code",
   "execution_count": 93,
   "metadata": {},
   "outputs": [
    {
     "data": {
      "image/png": "[encoded data removed]",
      "text/plain": [
       "<Figure size 432x288 with 1 Axes>"
      ]
     },
     "metadata": {
      "needs_background": "light"
     },
     "output_type": "display_data"
    }
   ],
   "source": [
    "# Plot averaged values grouped per 20\n",
    "w_avgs, m_avgs = create_avgs(gdt_table, 200)\n",
    "\n",
    "plt.figure(figsize= (6,4))\n",
    "plt.plot(w_avgs, label= 'Womens dist')\n",
    "plt.plot(m_avgs, label= 'Mens dist')\n",
    "plt.ylabel('Percentage of Speaking Lines Over Time')\n",
    "plt.xlabel('Time')\n",
    "plt.title('Percentage of Speaking Lines Over Time for each gender (AVG 200)')\n",
    "plt.legend()\n",
    "plt.show();"
   ]
  },
  {
   "cell_type": "markdown",
   "metadata": {},
   "source": [
    "As we can see, there seems to be an increase in female speaking roles over time, but it is small and insignificant. "
   ]
  },
  {
   "cell_type": "markdown",
   "metadata": {},
   "source": [
    "# Comparing Dialogue #\n",
    "\n",
    "\n",
    "Next, we will be comparing the content of the speaking lines for each gender group. To do so, we will first visualize word clouds of the most popular words per group, and examine any differences. Then, we will create an unigram and a bigram model to compare the most commonly used short phrases per group. \n",
    "\n",
    "To begin our analysis, we first create a Bag of Words (BOW) model. This model is helpful because it allows us to work with each word of the text as piece of data in the conglomerate; the sacrifice we pay is that the words are no longer in order. For more information on Bag of Words models, <a href='https://medium.com/greyatom/an-introduction-to-bag-of-words-in-nlp-ac967d43b428'>check out this medium article which talks more about it!</a>"
   ]
  },
  {
   "cell_type": "markdown",
   "metadata": {},
   "source": [
    "### Create a Bag of Words model ###\n",
    "\n",
    "First, we create an empty BOW model and fit it to our data. Fitting a model to our data aligns it to make predictions based on that data by finding patterns from it:"
   ]
  },
  {
   "cell_type": "code",
   "execution_count": 27,
   "metadata": {},
   "outputs": [
    {
     "data": {
      "text/plain": [
       "CountVectorizer()"
      ]
     },
     "execution_count": 27,
     "metadata": {},
     "output_type": "execute_result"
    }
   ],
   "source": [
    "# Define empty BOW models\n",
    "vec_w = CountVectorizer()\n",
    "vec_m = CountVectorizer()\n",
    "\n",
    "# Use the .fit method to tokenize the text and learn the vocabulary\n",
    "vec_w.fit(text_w[\"text_processed\"])\n",
    "vec_m.fit(text_m[\"text_processed\"])"
   ]
  },
  {
   "cell_type": "markdown",
   "metadata": {},
   "source": [
    "### Create Document Term Matrix (DTM) ###\n",
    "\n",
    "Next, we create a DTM. A DTM gives us the frequencies for each term in the dataset"
   ]
  },
  {
   "cell_type": "code",
   "execution_count": 30,
   "metadata": {},
   "outputs": [],
   "source": [
    "# Encode documents\n",
    "vector_w = vec_w.transform(text_w[\"text_processed\"])\n",
    "vector_m = vec_m.transform(text_m[\"text_processed\"])"
   ]
  },
  {
   "cell_type": "markdown",
   "metadata": {},
   "source": [
    "Let's visualize our DTM to see what it looks like!"
   ]
  },
  {
   "cell_type": "code",
   "execution_count": 31,
   "metadata": {},
   "outputs": [
    {
     "name": "stdout",
     "output_type": "stream",
     "text": [
      "<class 'scipy.sparse.csr.csr_matrix'>\n",
      "  (0, 153)\t1\n",
      "  (0, 351)\t2\n",
      "  (0, 451)\t1\n",
      "  (0, 1638)\t1\n",
      "  (0, 4114)\t1\n",
      "  (0, 6660)\t1\n",
      "  (0, 7328)\t1\n",
      "  (0, 7619)\t1\n",
      "  (0, 7641)\t2\n",
      "  (0, 7652)\t1\n",
      "  (0, 8504)\t1\n",
      "  (0, 8764)\t1\n",
      "  (0, 9709)\t1\n",
      "  (0, 9812)\t1\n",
      "  (0, 9876)\t1\n",
      "  (0, 10076)\t1\n",
      "  (0, 10170)\t1\n",
      "  (0, 13175)\t1\n",
      "  (0, 13640)\t1\n",
      "  (0, 14792)\t1\n",
      "  (0, 14799)\t2\n",
      "  (0, 14849)\t1\n",
      "  (0, 16067)\t1\n",
      "  (0, 16229)\t1\n",
      "  (0, 16646)\t2\n",
      "  (1, 393)\t1\n",
      "  (1, 3994)\t1\n",
      "  (1, 3997)\t1\n",
      "  (1, 4275)\t1\n",
      "  (1, 6676)\t2\n",
      "  (1, 6847)\t1\n",
      "  (1, 7222)\t1\n",
      "  (1, 8053)\t1\n",
      "  (1, 8362)\t1\n",
      "  (1, 8435)\t1\n",
      "  (1, 9628)\t1\n",
      "  (1, 10968)\t1\n",
      "  (1, 14383)\t1\n",
      "  (1, 14568)\t1\n",
      "  (1, 14657)\t1\n",
      "  (1, 15002)\t2\n",
      "  (1, 15109)\t1\n",
      "  (1, 16204)\t1\n",
      "  (1, 16646)\t1\n"
     ]
    }
   ],
   "source": [
    "print(type(vector_w))\n",
    "print(vector_w[:2])"
   ]
  },
  {
   "cell_type": "markdown",
   "metadata": {},
   "source": [
    "Here, we see our terms encoded successfully. However, though computers are able to work comfortably with numbers, it is hard for us to interpret what each of these terms are. To get some insight, we can look at the feature names."
   ]
  },
  {
   "cell_type": "code",
   "execution_count": 32,
   "metadata": {},
   "outputs": [
    {
     "data": {
      "text/plain": [
       "['aa',\n",
       " 'aaa',\n",
       " 'aaaaaahhhhhhh',\n",
       " 'aaaahhhh',\n",
       " 'aaaand',\n",
       " 'aaagh',\n",
       " 'aaah',\n",
       " 'aaand',\n",
       " 'aagghh',\n",
       " 'aah']"
      ]
     },
     "execution_count": 32,
     "metadata": {},
     "output_type": "execute_result"
    }
   ],
   "source": [
    "vec_w.get_feature_names()[:10]"
   ]
  },
  {
   "cell_type": "markdown",
   "metadata": {},
   "source": [
    "The features are in alphabetical order, so it seems that the first few terms are screams or sounds. Looking at the DTM, this shouldn't interfere too much with our model because these terms are only used once or twice. Now that we know our DTM is working correctly, we can move on to defining our Bigram model"
   ]
  },
  {
   "cell_type": "markdown",
   "metadata": {},
   "source": [
    "## Define N-gram models ##\n",
    "\n",
    "A unigram model is an n-gram model which extends to only one term; similarly, a bigram extends to two. More information on N-grams can be found <a href='https://towardsdatascience.com/understanding-word-n-grams-and-n-gram-probability-in-natural-language-processing-9d9eef0fa058'> here</a>!\n",
    "\n",
    "\n",
    "For this model, we will be using a unigram model, then looking at a bigram model. The results of each will be visualized by a wordcloud. In our function, this is determined within the \"ngram_range\" parameter of our CountVectorizer initializer."
   ]
  },
  {
   "cell_type": "code",
   "execution_count": 33,
   "metadata": {},
   "outputs": [
    {
     "data": {
      "text/plain": [
       "CountVectorizer(stop_words='english', token_pattern='\\\\b\\\\w+\\\\b')"
      ]
     },
     "execution_count": 33,
     "metadata": {},
     "output_type": "execute_result"
    }
   ],
   "source": [
    "# Initialize a unigram model\n",
    "unigram_vectorizer = CountVectorizer(ngram_range = (1, 1),\n",
    "                                    stop_words = \"english\",\n",
    "                                    token_pattern = r'\\b\\w+\\b', \n",
    "                                    min_df = 1)\n",
    "\n",
    "unigram_vectorizer"
   ]
  },
  {
   "cell_type": "code",
   "execution_count": 34,
   "metadata": {},
   "outputs": [],
   "source": [
    "# Analyze long_string in the bigram bag of words\n",
    "\n",
    "analyze_w = unigram_vectorizer.build_analyzer()\n",
    "analyze_m = unigram_vectorizer.build_analyzer()\n",
    "\n",
    "vocab_w = analyze_w(w_long)\n",
    "vocab_m = analyze_m(m_long)"
   ]
  },
  {
   "cell_type": "code",
   "execution_count": 35,
   "metadata": {},
   "outputs": [],
   "source": [
    "freq_w = Counter(vocab_w)\n",
    "freq_m = Counter(vocab_m)"
   ]
  },
  {
   "cell_type": "code",
   "execution_count": 38,
   "metadata": {},
   "outputs": [
    {
     "data": {
      "text/html": [
       "<div>\n",
       "<style scoped>\n",
       "    .dataframe tbody tr th:only-of-type {\n",
       "        vertical-align: middle;\n",
       "    }\n",
       "\n",
       "    .dataframe tbody tr th {\n",
       "        vertical-align: top;\n",
       "    }\n",
       "\n",
       "    .dataframe thead th {\n",
       "        text-align: right;\n",
       "    }\n",
       "</style>\n",
       "<table border=\"1\" class=\"dataframe\">\n",
       "  <thead>\n",
       "    <tr style=\"text-align: right;\">\n",
       "      <th></th>\n",
       "      <th>Mens</th>\n",
       "      <th>Freq_m</th>\n",
       "      <th>Womens</th>\n",
       "      <th>Freq_w</th>\n",
       "    </tr>\n",
       "  </thead>\n",
       "  <tbody>\n",
       "    <tr>\n",
       "      <th>0</th>\n",
       "      <td>im</td>\n",
       "      <td>6192</td>\n",
       "      <td>im</td>\n",
       "      <td>1994</td>\n",
       "    </tr>\n",
       "    <tr>\n",
       "      <th>1</th>\n",
       "      <td>oh</td>\n",
       "      <td>5628</td>\n",
       "      <td>oh</td>\n",
       "      <td>1923</td>\n",
       "    </tr>\n",
       "    <tr>\n",
       "      <th>2</th>\n",
       "      <td>just</td>\n",
       "      <td>4137</td>\n",
       "      <td>dont</td>\n",
       "      <td>1878</td>\n",
       "    </tr>\n",
       "    <tr>\n",
       "      <th>3</th>\n",
       "      <td>dont</td>\n",
       "      <td>4083</td>\n",
       "      <td>nan</td>\n",
       "      <td>1877</td>\n",
       "    </tr>\n",
       "    <tr>\n",
       "      <th>4</th>\n",
       "      <td>nan</td>\n",
       "      <td>3980</td>\n",
       "      <td>just</td>\n",
       "      <td>1680</td>\n",
       "    </tr>\n",
       "    <tr>\n",
       "      <th>5</th>\n",
       "      <td>like</td>\n",
       "      <td>3758</td>\n",
       "      <td>homer</td>\n",
       "      <td>1538</td>\n",
       "    </tr>\n",
       "    <tr>\n",
       "      <th>6</th>\n",
       "      <td>hey</td>\n",
       "      <td>3314</td>\n",
       "      <td>bart</td>\n",
       "      <td>1516</td>\n",
       "    </tr>\n",
       "    <tr>\n",
       "      <th>7</th>\n",
       "      <td>youre</td>\n",
       "      <td>3071</td>\n",
       "      <td>like</td>\n",
       "      <td>1267</td>\n",
       "    </tr>\n",
       "    <tr>\n",
       "      <th>8</th>\n",
       "      <td>know</td>\n",
       "      <td>2951</td>\n",
       "      <td>youre</td>\n",
       "      <td>1214</td>\n",
       "    </tr>\n",
       "    <tr>\n",
       "      <th>9</th>\n",
       "      <td>thats</td>\n",
       "      <td>2844</td>\n",
       "      <td>know</td>\n",
       "      <td>1179</td>\n",
       "    </tr>\n",
       "    <tr>\n",
       "      <th>10</th>\n",
       "      <td>right</td>\n",
       "      <td>2775</td>\n",
       "      <td>dad</td>\n",
       "      <td>1135</td>\n",
       "    </tr>\n",
       "    <tr>\n",
       "      <th>11</th>\n",
       "      <td>got</td>\n",
       "      <td>2550</td>\n",
       "      <td>thats</td>\n",
       "      <td>1021</td>\n",
       "    </tr>\n",
       "    <tr>\n",
       "      <th>12</th>\n",
       "      <td>uh</td>\n",
       "      <td>2352</td>\n",
       "      <td>think</td>\n",
       "      <td>859</td>\n",
       "    </tr>\n",
       "    <tr>\n",
       "      <th>13</th>\n",
       "      <td>ill</td>\n",
       "      <td>2290</td>\n",
       "      <td>right</td>\n",
       "      <td>721</td>\n",
       "    </tr>\n",
       "    <tr>\n",
       "      <th>14</th>\n",
       "      <td>yeah</td>\n",
       "      <td>2260</td>\n",
       "      <td>mom</td>\n",
       "      <td>683</td>\n",
       "    </tr>\n",
       "    <tr>\n",
       "      <th>15</th>\n",
       "      <td>marge</td>\n",
       "      <td>2241</td>\n",
       "      <td>want</td>\n",
       "      <td>681</td>\n",
       "    </tr>\n",
       "    <tr>\n",
       "      <th>16</th>\n",
       "      <td>homer</td>\n",
       "      <td>2045</td>\n",
       "      <td>got</td>\n",
       "      <td>674</td>\n",
       "    </tr>\n",
       "    <tr>\n",
       "      <th>17</th>\n",
       "      <td>good</td>\n",
       "      <td>1957</td>\n",
       "      <td>did</td>\n",
       "      <td>631</td>\n",
       "    </tr>\n",
       "    <tr>\n",
       "      <th>18</th>\n",
       "      <td>man</td>\n",
       "      <td>1916</td>\n",
       "      <td>look</td>\n",
       "      <td>614</td>\n",
       "    </tr>\n",
       "    <tr>\n",
       "      <th>19</th>\n",
       "      <td>gonna</td>\n",
       "      <td>1854</td>\n",
       "      <td>lisa</td>\n",
       "      <td>611</td>\n",
       "    </tr>\n",
       "  </tbody>\n",
       "</table>\n",
       "</div>"
      ],
      "text/plain": [
       "     Mens  Freq_m Womens  Freq_w\n",
       "0      im    6192     im    1994\n",
       "1      oh    5628     oh    1923\n",
       "2    just    4137   dont    1878\n",
       "3    dont    4083    nan    1877\n",
       "4     nan    3980   just    1680\n",
       "5    like    3758  homer    1538\n",
       "6     hey    3314   bart    1516\n",
       "7   youre    3071   like    1267\n",
       "8    know    2951  youre    1214\n",
       "9   thats    2844   know    1179\n",
       "10  right    2775    dad    1135\n",
       "11    got    2550  thats    1021\n",
       "12     uh    2352  think     859\n",
       "13    ill    2290  right     721\n",
       "14   yeah    2260    mom     683\n",
       "15  marge    2241   want     681\n",
       "16  homer    2045    got     674\n",
       "17   good    1957    did     631\n",
       "18    man    1916   look     614\n",
       "19  gonna    1854   lisa     611"
      ]
     },
     "execution_count": 38,
     "metadata": {},
     "output_type": "execute_result"
    }
   ],
   "source": [
    "w_df = pd.DataFrame(freq_w.most_common(20), columns = [\"Word\", \"Frequency\"]).reset_index()\n",
    "m_df = pd.DataFrame(freq_m.most_common(20), columns = [\"Word\", \"Frequency\"]).reset_index()\n",
    "\n",
    "merged_df = m_df.merge(w_df, left_on= 'index', right_on= 'index').drop(columns= 'index').rename(columns={'Word_x': 'Mens', \n",
    "                                                                                                         'Frequency_x': 'Freq_m',\n",
    "                                                                                                        'Word_y': 'Womens',\n",
    "                                                                                                        'Frequency_y': 'Freq_w'})\n",
    "merged_df"
   ]
  },
  {
   "cell_type": "markdown",
   "metadata": {},
   "source": [
    "We can already see a few differences here. The sheer numbers on the Mens frequency column is way higher than the Womens, which was also shown in the previous analysis. Some words do stand out, but let's visualize this dataframe to see better."
   ]
  },
  {
   "cell_type": "code",
   "execution_count": 39,
   "metadata": {},
   "outputs": [
    {
     "data": {
      "image/png": "[encoded data removed]",
      "text/plain": [
       "<PIL.Image.Image image mode=RGB size=600x300 at 0x7FF8CB596F70>"
      ]
     },
     "execution_count": 39,
     "metadata": {},
     "output_type": "execute_result"
    }
   ],
   "source": [
    "cloud_w = WordCloud(background_color = \"white\", \n",
    "                  max_words = 20, \n",
    "                  contour_width = 5, \n",
    "                  width = 600, height = 300, \n",
    "                  random_state = 5)\n",
    "cloud_w.generate(w_long)\n",
    "cloud_w.to_image()"
   ]
  },
  {
   "cell_type": "code",
   "execution_count": 40,
   "metadata": {},
   "outputs": [
    {
     "data": {
      "image/png": "[encoded data removed]",
      "text/plain": [
       "<PIL.Image.Image image mode=RGB size=600x300 at 0x7FF8E206C910>"
      ]
     },
     "execution_count": 40,
     "metadata": {},
     "output_type": "execute_result"
    }
   ],
   "source": [
    "# Define a word cloud variable\n",
    "cloud_m = WordCloud(background_color = \"white\", \n",
    "                  max_words = 20, \n",
    "                  contour_width = 5, \n",
    "                  width = 600, height = 300, \n",
    "                  random_state = 5)\n",
    "\n",
    "# Process the word cloud\n",
    "cloud_m.generate(m_long)\n",
    "\n",
    "# Visualize!\n",
    "cloud_m.to_image()"
   ]
  },
  {
   "cell_type": "markdown",
   "metadata": {},
   "source": [
    "## Unigram Interpretation ##\n",
    "\n",
    "<b>1. Bart</b> \n",
    "\n",
    "Some words that I see standout between the two are what names are spoken. In the women's wordcloud, the term \"bart\" is used very frequently. From knowing the show, Bart Simpsons is one of the main characters-- the trouble-making son of the Simpsons family. The spaces that Bart occupies as a child are mostly home and school! Moreover, most of Barts friends are boys-- notable ones being Milhouse, Martin, and Nelson. Thus, a large portion of speaking lines for women must be taken up by Barts maternal figures: including Marge Simpsons (Bart's Mom), Edna Krabappel (Bart's Teacher), and Lisa Simpson (Bart's sister). \n",
    "\n",
    "We can check this by looking at our datatable."
   ]
  },
  {
   "cell_type": "code",
   "execution_count": 70,
   "metadata": {},
   "outputs": [
    {
     "data": {
      "text/html": [
       "<div>\n",
       "<style scoped>\n",
       "    .dataframe tbody tr th:only-of-type {\n",
       "        vertical-align: middle;\n",
       "    }\n",
       "\n",
       "    .dataframe tbody tr th {\n",
       "        vertical-align: top;\n",
       "    }\n",
       "\n",
       "    .dataframe thead th {\n",
       "        text-align: right;\n",
       "    }\n",
       "</style>\n",
       "<table border=\"1\" class=\"dataframe\">\n",
       "  <thead>\n",
       "    <tr style=\"text-align: right;\">\n",
       "      <th></th>\n",
       "      <th>line</th>\n",
       "    </tr>\n",
       "    <tr>\n",
       "      <th>normalized_name</th>\n",
       "      <th></th>\n",
       "    </tr>\n",
       "  </thead>\n",
       "  <tbody>\n",
       "    <tr>\n",
       "      <th>marge simpson</th>\n",
       "      <td>13193</td>\n",
       "    </tr>\n",
       "    <tr>\n",
       "      <th>lisa simpson</th>\n",
       "      <td>10769</td>\n",
       "    </tr>\n",
       "    <tr>\n",
       "      <th>edna krabappel-flanders</th>\n",
       "      <td>725</td>\n",
       "    </tr>\n",
       "    <tr>\n",
       "      <th>selma bouvier</th>\n",
       "      <td>566</td>\n",
       "    </tr>\n",
       "    <tr>\n",
       "      <th>patty bouvier</th>\n",
       "      <td>463</td>\n",
       "    </tr>\n",
       "    <tr>\n",
       "      <th>...</th>\n",
       "      <td>...</td>\n",
       "    </tr>\n",
       "    <tr>\n",
       "      <th>barbara</th>\n",
       "      <td>20</td>\n",
       "    </tr>\n",
       "    <tr>\n",
       "      <th>ms melon</th>\n",
       "      <td>18</td>\n",
       "    </tr>\n",
       "    <tr>\n",
       "      <th>evelyn</th>\n",
       "      <td>17</td>\n",
       "    </tr>\n",
       "    <tr>\n",
       "      <th>rachel</th>\n",
       "      <td>14</td>\n",
       "    </tr>\n",
       "    <tr>\n",
       "      <th>darcy</th>\n",
       "      <td>2</td>\n",
       "    </tr>\n",
       "  </tbody>\n",
       "</table>\n",
       "<p>71 rows × 1 columns</p>\n",
       "</div>"
      ],
      "text/plain": [
       "                          line\n",
       "normalized_name               \n",
       "marge simpson            13193\n",
       "lisa simpson             10769\n",
       "edna krabappel-flanders    725\n",
       "selma bouvier              566\n",
       "patty bouvier              463\n",
       "...                        ...\n",
       "barbara                     20\n",
       "ms melon                    18\n",
       "evelyn                      17\n",
       "rachel                      14\n",
       "darcy                        2\n",
       "\n",
       "[71 rows x 1 columns]"
      ]
     },
     "execution_count": 70,
     "metadata": {},
     "output_type": "execute_result"
    }
   ],
   "source": [
    "w_table[['normalized_name', 'line']].groupby('normalized_name').count().sort_values(by='line', ascending= False)"
   ]
  },
  {
   "cell_type": "markdown",
   "metadata": {},
   "source": [
    "Here we see that Marge and Lisa Simpson do make up a huge majority of the speaking roles. Moreover, the third most prominent women in the show is Edna Krabappel, Bart's teacher-- which we deduced from our unigram model. "
   ]
  },
  {
   "cell_type": "markdown",
   "metadata": {},
   "source": [
    "<b>2. Dad</b> \n",
    "\n",
    "Similarly, a common term is \"dad\". Because the Simpsons are the show's main family, it does not dig deeper into many other families' dynamics. Moreover, not many of the family's who get screen time have daughters. With that in mind, Lisa Simpson take up a large portion of womens speaking roles.\n",
    "\n",
    "We can see this is true by looking at the table above, where Lisa is the second most prominent female character.\n",
    "\n",
    "<b>3. Oh well, vs. Oh dont!</b> \n",
    "\n",
    "Looking closer to the men's wordcloud, we don't see as many names. We do see the term 'marge'; however, there is no general context on how this term could've been used. We see the terms \"oh\" and \"well\" appear pretty large in our wordcloud. In comparison to the women's wordcloud which includes a large use of the terms \"oh\" and \"dont\".\n",
    "\n",
    "To get a better angle of the part that term frequency plays, we will visualize a bar plot of each unigram:"
   ]
  },
  {
   "cell_type": "code",
   "execution_count": 43,
   "metadata": {},
   "outputs": [
    {
     "data": {
      "image/png": "[encoded data removed]",
      "text/plain": [
       "<Figure size 504x252 with 2 Axes>"
      ]
     },
     "metadata": {
      "needs_background": "light"
     },
     "output_type": "display_data"
    }
   ],
   "source": [
    "# Visualize word frequencies in a horizontal bar plot\n",
    "\n",
    "plt.rcParams[\"figure.figsize\"] = [7.00, 3.50]\n",
    "plt.rcParams[\"figure.autolayout\"] = True\n",
    "f, axes = plt.subplots(1, 2)\n",
    "sns.barplot(x = \"Frequency\",\n",
    "            y = \"Word\",\n",
    "            data = w_df,\n",
    "            orient = \"h\",\n",
    "           ax = axes[1]).set_title('Womens unigrams')\n",
    "sns.barplot(x = \"Frequency\",\n",
    "            y = \"Word\",\n",
    "            data = m_df,\n",
    "            orient = \"h\",\n",
    "           ax = axes[0]).set_title('Mens unigrams')\n",
    "plt.show();"
   ]
  },
  {
   "cell_type": "markdown",
   "metadata": {},
   "source": [
    "Interestingly enough, we don't find the same results in looking at the barplot. More specifically, the term \"well\" isn't as present in the mens graph and the term \"dont\" is almost equally present in both. This could be because we used the long strings for the wordclouds, and the dataframes for this plot. \n",
    "\n",
    "However, we do still see a high presence of the terms 'bart' and 'dad' in both graphs. Moreover, the more frequent terms on the mens side-- like \"oh\", \"uh\", and \"gonna\"-- still give off more of a carefree attitude compared to the womens side-- like \"know\", \"think\", \"want\", \"did\". Thus, this graph is still relatively consistent with our earlier findings. \n",
    "\n",
    "Let us now perform the same analysis looking at a bigram model!"
   ]
  },
  {
   "cell_type": "code",
   "execution_count": 45,
   "metadata": {},
   "outputs": [
    {
     "data": {
      "text/plain": [
       "CountVectorizer(ngram_range=(2, 2), stop_words='english',\n",
       "                token_pattern='\\\\b\\\\w+\\\\b')"
      ]
     },
     "execution_count": 45,
     "metadata": {},
     "output_type": "execute_result"
    }
   ],
   "source": [
    "# Initialize a bigram model\n",
    "bigram_vectorizer = CountVectorizer(ngram_range = (2, 2),\n",
    "                                    stop_words = \"english\",\n",
    "                                    token_pattern = r'\\b\\w+\\b', \n",
    "                                    min_df = 1)\n",
    "\n",
    "bigram_vectorizer"
   ]
  },
  {
   "cell_type": "code",
   "execution_count": 46,
   "metadata": {},
   "outputs": [],
   "source": [
    "# Analyze long_string in the bigram bag of words\n",
    "\n",
    "analyze_w_bi = bigram_vectorizer.build_analyzer()\n",
    "analyze_m_bi = bigram_vectorizer.build_analyzer()\n",
    "\n",
    "vocab_w_bi = analyze_w_bi(w_long)\n",
    "vocab_m_bi = analyze_m_bi(m_long)"
   ]
  },
  {
   "cell_type": "code",
   "execution_count": 48,
   "metadata": {},
   "outputs": [],
   "source": [
    "freq_w_bi = Counter(vocab_w_bi)\n",
    "freq_m_bi = Counter(vocab_m_bi)"
   ]
  },
  {
   "cell_type": "code",
   "execution_count": 49,
   "metadata": {},
   "outputs": [
    {
     "data": {
      "text/html": [
       "<div>\n",
       "<style scoped>\n",
       "    .dataframe tbody tr th:only-of-type {\n",
       "        vertical-align: middle;\n",
       "    }\n",
       "\n",
       "    .dataframe tbody tr th {\n",
       "        vertical-align: top;\n",
       "    }\n",
       "\n",
       "    .dataframe thead th {\n",
       "        text-align: right;\n",
       "    }\n",
       "</style>\n",
       "<table border=\"1\" class=\"dataframe\">\n",
       "  <thead>\n",
       "    <tr style=\"text-align: right;\">\n",
       "      <th></th>\n",
       "      <th>Mens</th>\n",
       "      <th>Freq_m</th>\n",
       "      <th>Womens</th>\n",
       "      <th>Freq_w</th>\n",
       "    </tr>\n",
       "  </thead>\n",
       "  <tbody>\n",
       "    <tr>\n",
       "      <th>0</th>\n",
       "      <td>im gonna</td>\n",
       "      <td>627</td>\n",
       "      <td>dont know</td>\n",
       "      <td>266</td>\n",
       "    </tr>\n",
       "    <tr>\n",
       "      <th>1</th>\n",
       "      <td>nan nan</td>\n",
       "      <td>555</td>\n",
       "      <td>nan nan</td>\n",
       "      <td>221</td>\n",
       "    </tr>\n",
       "    <tr>\n",
       "      <th>2</th>\n",
       "      <td>dont know</td>\n",
       "      <td>480</td>\n",
       "      <td>im sorry</td>\n",
       "      <td>197</td>\n",
       "    </tr>\n",
       "    <tr>\n",
       "      <th>3</th>\n",
       "      <td>ive got</td>\n",
       "      <td>418</td>\n",
       "      <td>dont want</td>\n",
       "      <td>162</td>\n",
       "    </tr>\n",
       "    <tr>\n",
       "      <th>4</th>\n",
       "      <td>oh yeah</td>\n",
       "      <td>391</td>\n",
       "      <td>im gonna</td>\n",
       "      <td>137</td>\n",
       "    </tr>\n",
       "    <tr>\n",
       "      <th>5</th>\n",
       "      <td>dont worry</td>\n",
       "      <td>365</td>\n",
       "      <td>im sure</td>\n",
       "      <td>130</td>\n",
       "    </tr>\n",
       "    <tr>\n",
       "      <th>6</th>\n",
       "      <td>im sorry</td>\n",
       "      <td>360</td>\n",
       "      <td>dont think</td>\n",
       "      <td>123</td>\n",
       "    </tr>\n",
       "    <tr>\n",
       "      <th>7</th>\n",
       "      <td>woo hoo</td>\n",
       "      <td>338</td>\n",
       "      <td>mr burns</td>\n",
       "      <td>120</td>\n",
       "    </tr>\n",
       "    <tr>\n",
       "      <th>8</th>\n",
       "      <td>mr burns</td>\n",
       "      <td>329</td>\n",
       "      <td>oh god</td>\n",
       "      <td>119</td>\n",
       "    </tr>\n",
       "    <tr>\n",
       "      <th>9</th>\n",
       "      <td>oh god</td>\n",
       "      <td>315</td>\n",
       "      <td>im going</td>\n",
       "      <td>114</td>\n",
       "    </tr>\n",
       "    <tr>\n",
       "      <th>10</th>\n",
       "      <td>homer simpson</td>\n",
       "      <td>314</td>\n",
       "      <td>ive got</td>\n",
       "      <td>102</td>\n",
       "    </tr>\n",
       "    <tr>\n",
       "      <th>11</th>\n",
       "      <td>uh oh</td>\n",
       "      <td>291</td>\n",
       "      <td>nan oh</td>\n",
       "      <td>96</td>\n",
       "    </tr>\n",
       "    <tr>\n",
       "      <th>12</th>\n",
       "      <td>wait minute</td>\n",
       "      <td>280</td>\n",
       "      <td>dont worry</td>\n",
       "      <td>94</td>\n",
       "    </tr>\n",
       "    <tr>\n",
       "      <th>13</th>\n",
       "      <td>id like</td>\n",
       "      <td>249</td>\n",
       "      <td>im just</td>\n",
       "      <td>82</td>\n",
       "    </tr>\n",
       "    <tr>\n",
       "      <th>14</th>\n",
       "      <td>hey hey</td>\n",
       "      <td>245</td>\n",
       "      <td>homer homer</td>\n",
       "      <td>82</td>\n",
       "    </tr>\n",
       "    <tr>\n",
       "      <th>15</th>\n",
       "      <td>im going</td>\n",
       "      <td>244</td>\n",
       "      <td>oh homie</td>\n",
       "      <td>79</td>\n",
       "    </tr>\n",
       "    <tr>\n",
       "      <th>16</th>\n",
       "      <td>dont want</td>\n",
       "      <td>237</td>\n",
       "      <td>nan homer</td>\n",
       "      <td>78</td>\n",
       "    </tr>\n",
       "    <tr>\n",
       "      <th>17</th>\n",
       "      <td>looks like</td>\n",
       "      <td>236</td>\n",
       "      <td>mom dad</td>\n",
       "      <td>75</td>\n",
       "    </tr>\n",
       "    <tr>\n",
       "      <th>18</th>\n",
       "      <td>la la</td>\n",
       "      <td>223</td>\n",
       "      <td>id like</td>\n",
       "      <td>75</td>\n",
       "    </tr>\n",
       "    <tr>\n",
       "      <th>19</th>\n",
       "      <td>just like</td>\n",
       "      <td>208</td>\n",
       "      <td>oh homer</td>\n",
       "      <td>75</td>\n",
       "    </tr>\n",
       "  </tbody>\n",
       "</table>\n",
       "</div>"
      ],
      "text/plain": [
       "             Mens  Freq_m       Womens  Freq_w\n",
       "0        im gonna     627    dont know     266\n",
       "1         nan nan     555      nan nan     221\n",
       "2       dont know     480     im sorry     197\n",
       "3         ive got     418    dont want     162\n",
       "4         oh yeah     391     im gonna     137\n",
       "5      dont worry     365      im sure     130\n",
       "6        im sorry     360   dont think     123\n",
       "7         woo hoo     338     mr burns     120\n",
       "8        mr burns     329       oh god     119\n",
       "9          oh god     315     im going     114\n",
       "10  homer simpson     314      ive got     102\n",
       "11          uh oh     291       nan oh      96\n",
       "12    wait minute     280   dont worry      94\n",
       "13        id like     249      im just      82\n",
       "14        hey hey     245  homer homer      82\n",
       "15       im going     244     oh homie      79\n",
       "16      dont want     237    nan homer      78\n",
       "17     looks like     236      mom dad      75\n",
       "18          la la     223      id like      75\n",
       "19      just like     208     oh homer      75"
      ]
     },
     "execution_count": 49,
     "metadata": {},
     "output_type": "execute_result"
    }
   ],
   "source": [
    "w_df_bi = pd.DataFrame(freq_w_bi.most_common(20), columns = [\"Word\", \"Frequency\"]).reset_index()\n",
    "m_df_bi = pd.DataFrame(freq_m_bi.most_common(20), columns = [\"Word\", \"Frequency\"]).reset_index()\n",
    "\n",
    "merged_df_bi = m_df_bi.merge(w_df_bi, left_on= 'index', right_on= 'index').drop(columns= 'index').rename(columns={'Word_x': 'Mens', \n",
    "                                                                                                         'Frequency_x': 'Freq_m',\n",
    "                                                                                                        'Word_y': 'Womens',\n",
    "                                                                                                        'Frequency_y': 'Freq_w'})\n",
    "merged_df_bi"
   ]
  },
  {
   "cell_type": "markdown",
   "metadata": {},
   "source": [
    "Adding an extra word made a really adds more context to these phrases! Let's skip the wordcloud and go straight to the bar chart for this one:"
   ]
  },
  {
   "cell_type": "code",
   "execution_count": 51,
   "metadata": {},
   "outputs": [
    {
     "data": {
      "image/png": "[encoded data removed]",
      "text/plain": [
       "<Figure size 504x252 with 2 Axes>"
      ]
     },
     "metadata": {
      "needs_background": "light"
     },
     "output_type": "display_data"
    }
   ],
   "source": [
    "plt.rcParams[\"figure.figsize\"] = [7.00, 3.50]\n",
    "plt.rcParams[\"figure.autolayout\"] = True\n",
    "f, axes = plt.subplots(1, 2)\n",
    "sns.barplot(x = \"Frequency\",\n",
    "            y = \"Word\",\n",
    "            data = w_df_bi,\n",
    "            orient = \"h\",\n",
    "           ax = axes[1]).set_title('Womens bigrams')\n",
    "sns.barplot(x = \"Frequency\",\n",
    "            y = \"Word\",\n",
    "            data = m_df_bi,\n",
    "            orient = \"h\",\n",
    "           ax = axes[0]).set_title('Mens bigrams')\n",
    "plt.show();"
   ]
  },
  {
   "cell_type": "markdown",
   "metadata": {},
   "source": [
    "### Bigram Interpretation ###\n",
    "\n",
    "In looking at the bigram bar charts, both charts share many phrases. Of the phrases they don't share, there isn't much information that they give which could help characterize the group better. Examples of these phrases include \"woo hoo\", \"wait minute\",  \"looks like\", and \"la la\". The mens bigram chart does use the phrase \"uh oh\", which could've implied that they often cause problems. However, this term is not shown to have much frequency. If it were the case that the burden of solving these problems were placed on the women in the show, we would see a corresponding term in the womens bigram chart, yet, we don't see it. \n",
    "\n",
    "However, thanks to our bigram model, we see that there exists no \"oh dont\" nor an \"oh well\". With this in mind, our previous finding is further clarified by the bigram model! In this way, the bigram model may not have given us more descriptive information than the unigram analysis; however, the bigram analysis was still able increase our analytical accuracy."
   ]
  },
  {
   "cell_type": "markdown",
   "metadata": {},
   "source": [
    "### Takeaways ###\n",
    "\n",
    "From this analysis, we were able to deduce that:\n",
    "\n",
    "<b>1.</b> The cast of women is mostly comprised of maternal figures to Bart Simpson, the son. These figures include Bart's mom, Bart's sister, and Bart's teacher.\n",
    "\n",
    "<b>2.</b> Lisa Simpson comprises a large portion of womens speaking roles."
   ]
  },
  {
   "cell_type": "markdown",
   "metadata": {},
   "source": [
    "# Topic Model #\n",
    "\n",
    "Lastly, we will implement a topic model to better characterize the dialogue of each group. A topic model is useful in this scenario because it will offer insight into the main themes the dialogue follows. Thus, unlike the n-gram analysis which gives terms out of context, the topic model offers us groupings of terms to show persistent context. For more information on topic models, <a href='https://medium.com/analytics-vidhya/topic-modelling-techniques-37826fbab549'>check out this article</a> which breaks it down!\n",
    "\n",
    "On to the topic model. For this project, we are choosing to find 5 topics:"
   ]
  },
  {
   "cell_type": "code",
   "execution_count": 71,
   "metadata": {},
   "outputs": [],
   "source": [
    " n_topics = 5"
   ]
  },
  {
   "cell_type": "markdown",
   "metadata": {},
   "source": [
    "Next, we will split our strings into its individual words-- what we call \"tokens\"."
   ]
  },
  {
   "cell_type": "code",
   "execution_count": 77,
   "metadata": {},
   "outputs": [],
   "source": [
    "# Here, we are splitting our\n",
    "m_tokens = m_long.split()\n",
    "w_tokens = w_long.split()"
   ]
  },
  {
   "cell_type": "markdown",
   "metadata": {},
   "source": [
    "Then, we will initialize a vectorizer in the same way that we initialized our CountVectorizer() above. Here, we are allowing for max 500 different features to be used create a model which groups terms more accurately. Moreover, we are removing the most common \"english stopwords\"-- which are words like \"the\", \"as\", etc. which don't provide any real information about the character. "
   ]
  },
  {
   "cell_type": "code",
   "execution_count": 76,
   "metadata": {},
   "outputs": [],
   "source": [
    "tfidf_vectorizer_w = TfidfVectorizer(max_df = 0.90,\n",
    "                                   max_features = 500,\n",
    "                                   stop_words = \"english\")\n",
    "\n",
    "tfidf_vectorizer_m = TfidfVectorizer(max_df = 0.90,\n",
    "                                   max_features = 500,\n",
    "                                   stop_words = \"english\")\n",
    "\n",
    "# Fit\n",
    "tfidf_w = tfidf_vectorizer_w.fit_transform(w_tokens)\n",
    "tfidf_m = tfidf_vectorizer_m.fit_transform(m_tokens)"
   ]
  },
  {
   "cell_type": "markdown",
   "metadata": {},
   "source": [
    "Lastly, we instantiate our LDA model, which creates an empty instance of our model. This LDA model will then be fit on our data to create the topic model:"
   ]
  },
  {
   "cell_type": "code",
   "execution_count": 81,
   "metadata": {},
   "outputs": [],
   "source": [
    "# Instantiate our LDA model (this might take a minute or two)\n",
    "\n",
    "#lda_w = LatentDirichletAllocation(n_components = n_topics, \n",
    "#                                max_iter = 20, \n",
    "#                                random_state = 42)\n",
    "# lda_m = LatentDirichletAllocation(n_components = n_topics, \n",
    "#                                max_iter = 20, \n",
    "#                                random_state = 42)\n",
    "\n",
    "#lda_w = lda_w.fit(tfidf_w)\n",
    "#lda_m = lda_m.fit(tfidf_m)"
   ]
  },
  {
   "cell_type": "code",
   "execution_count": 82,
   "metadata": {},
   "outputs": [],
   "source": [
    "#with open ('lda_w.pk', \"wb\") as f:\n",
    "#    pickle.dump(lda_w, f)\n",
    "    \n",
    "#with open ('lda_m.pk', \"wb\") as f:\n",
    "#    pickle.dump(lda_m, f)"
   ]
  },
  {
   "cell_type": "markdown",
   "metadata": {},
   "source": [
    "Fitting the LDA models take a long time because the dataset is so large, so instead the LDA models were made and downloaded ahead of time. The models were saved using the pickle library which allowed us to save them as a .pk file. To load them, we just use the pickle library again:"
   ]
  },
  {
   "cell_type": "code",
   "execution_count": 84,
   "metadata": {},
   "outputs": [],
   "source": [
    "with open('LDA_models/lda_m.pk', 'rb') as f:\n",
    "    lda_m = pickle.load(f)\n",
    "with open('LDA_models/lda_w.pk', 'rb') as f:\n",
    "    lda_w = pickle.load(f)   "
   ]
  },
  {
   "cell_type": "markdown",
   "metadata": {},
   "source": [
    "### Top Words ###\n",
    "\n",
    "After creating the model, let us look at the top words of every topic to get an idea of what each represents:"
   ]
  },
  {
   "cell_type": "code",
   "execution_count": 86,
   "metadata": {},
   "outputs": [],
   "source": [
    "# This function prints out the top words of each topic in our model\n",
    "def print_top_words(model, feature_names, n_top_words):\n",
    "    for topic_idx, topic in enumerate(model.components_):\n",
    "        print(\"\\nTopic #{}:\".format(topic_idx+1))\n",
    "        print(\", \".join([feature_names[i] for i in topic.argsort()[:-n_top_words - 1:-1]]))"
   ]
  },
  {
   "cell_type": "code",
   "execution_count": 88,
   "metadata": {},
   "outputs": [
    {
     "name": "stdout",
     "output_type": "stream",
     "text": [
      "\n",
      "Topic #1:\n",
      "youre, want, did, look, okay, make, love, theres, kids, say, yes, home, school, help, great, honey, weve, boy, remember, talk\n",
      "\n",
      "Topic #2:\n",
      "oh, like, know, little, really, time, ive, gonna, maybe, simpson, mean, better, wait, god, isnt, youll, baby, night, things, bad\n",
      "\n",
      "Topic #3:\n",
      "im, think, right, mom, lisa, going, ill, hes, come, sure, hey, didnt, yeah, doing, let, father, marge, said, big, wont\n",
      "\n",
      "Topic #4:\n",
      "dont, homer, bart, good, sorry, people, need, whats, tell, day, youve, theyre, new, house, maggie, thought, nice, lot, shes, ooh\n",
      "\n",
      "Topic #5:\n",
      "nan, just, dad, thats, got, homie, stop, mr, way, man, thing, lets, thank, uh, guess, family, feel, id, doesnt, believe\n"
     ]
    }
   ],
   "source": [
    "tf_feature_names_w = tfidf_vectorizer_w.get_feature_names()\n",
    "print_top_words(lda_w, tf_feature_names_w, 20)"
   ]
  },
  {
   "cell_type": "code",
   "execution_count": 89,
   "metadata": {},
   "outputs": [
    {
     "name": "stdout",
     "output_type": "stream",
     "text": [
      "\n",
      "Topic #1:\n",
      "oh, dont, like, youre, ill, uh, good, man, little, come, say, simpson, make, dad, lisa, let, life, help, mean, place\n",
      "\n",
      "Topic #2:\n",
      "know, marge, gonna, want, think, boy, day, sorry, old, god, son, work, guys, money, mom, guy, school, youll, thanks, away\n",
      "\n",
      "Topic #3:\n",
      "im, just, nan, thats, got, yeah, homer, look, okay, ive, did, hes, really, theres, thing, sir, sure, kids, new, ya\n",
      "\n",
      "Topic #4:\n",
      "right, time, yes, way, lets, love, going, whats, tell, mr, great, didnt, id, big, home, theyre, said, stop, youve, hell\n",
      "\n",
      "Topic #5:\n",
      "hey, bart, need, people, wait, better, huh, gotta, thank, maybe, springfield, thought, family, hello, long, aw, whoa, ooh, isnt, em\n"
     ]
    }
   ],
   "source": [
    "tf_feature_names_m = tfidf_vectorizer_m.get_feature_names()\n",
    "print_top_words(lda_m, tf_feature_names_m, 20)"
   ]
  },
  {
   "cell_type": "markdown",
   "metadata": {},
   "source": [
    "### Visualization ###\n",
    "\n",
    "Now, we will visualize the topic models using the pyLDAvis library:"
   ]
  },
  {
   "cell_type": "code",
   "execution_count": 91,
   "metadata": {},
   "outputs": [
    {
     "data": {
      "text/html": [
       "\n",
       "<link rel=\"stylesheet\" type=\"text/css\" href=\"https://cdn.jsdelivr.net/gh/bmabey/pyLDAvis@3.3.1/pyLDAvis/js/ldavis.v1.0.0.css\">\n",
       "\n",
       "\n",
       "<div id=\"ldavis_el542781407066126073442083926953\"></div>\n",
       "<script type=\"text/javascript\">\n",
       "\n",
       "var ldavis_el542781407066126073442083926953_data = {\"mdsDat\": {\"x\": [150.22215270996094, 51.16336441040039, -73.1445541381836, -66.4101333618164, 54.41732406616211], \"y\": [-72.2695541381836, -159.968017578125, 21.523815155029297, -110.60643768310547, 12.44344425201416], \"topics\": [1, 2, 3, 4, 5], \"cluster\": [1, 1, 1, 1, 1], \"Freq\": [20.909774263150673, 20.53504182124888, 19.800158460205697, 19.511185859198513, 19.243839596196242]}, \"tinfo\": {\"Term\": [\"im\", \"dont\", \"oh\", \"nan\", \"just\", \"homer\", \"bart\", \"youre\", \"like\", \"know\", \"dad\", \"thats\", \"think\", \"right\", \"want\", \"mom\", \"did\", \"look\", \"lisa\", \"got\", \"going\", \"ill\", \"good\", \"little\", \"really\", \"okay\", \"hes\", \"time\", \"homie\", \"make\", \"nan\", \"just\", \"dad\", \"thats\", \"got\", \"homie\", \"stop\", \"mr\", \"way\", \"man\", \"thing\", \"lets\", \"thank\", \"uh\", \"guess\", \"family\", \"feel\", \"id\", \"doesnt\", \"believe\", \"life\", \"old\", \"does\", \"springfield\", \"money\", \"wrong\", \"happy\", \"place\", \"huh\", \"barts\", \"oh\", \"like\", \"know\", \"little\", \"really\", \"time\", \"ive\", \"gonna\", \"maybe\", \"simpson\", \"mean\", \"better\", \"wait\", \"god\", \"isnt\", \"youll\", \"baby\", \"night\", \"things\", \"bad\", \"work\", \"fun\", \"wow\", \"children\", \"years\", \"away\", \"fine\", \"world\", \"long\", \"room\", \"dont\", \"homer\", \"bart\", \"good\", \"sorry\", \"people\", \"need\", \"whats\", \"tell\", \"day\", \"youve\", \"theyre\", \"new\", \"house\", \"maggie\", \"thought\", \"nice\", \"lot\", \"shes\", \"ooh\", \"best\", \"looks\", \"eat\", \"try\", \"sweet\", \"book\", \"car\", \"idea\", \"hear\", \"christmas\", \"im\", \"think\", \"right\", \"mom\", \"lisa\", \"going\", \"ill\", \"hes\", \"come\", \"sure\", \"hey\", \"didnt\", \"yeah\", \"doing\", \"let\", \"father\", \"marge\", \"said\", \"big\", \"wont\", \"hello\", \"thanks\", \"husband\", \"kind\", \"use\", \"real\", \"mother\", \"actually\", \"told\", \"read\", \"youre\", \"want\", \"did\", \"look\", \"okay\", \"make\", \"love\", \"theres\", \"kids\", \"say\", \"yes\", \"home\", \"school\", \"help\", \"great\", \"honey\", \"weve\", \"boy\", \"remember\", \"talk\", \"getting\", \"burns\", \"grampa\", \"play\", \"friends\", \"care\", \"ned\", \"hope\", \"miss\", \"town\"], \"Freq\": [2030.0, 1885.0, 1848.0, 1790.0, 1602.0, 1544.0, 1522.0, 1256.0, 1228.0, 1143.0, 1082.0, 973.0, 875.0, 735.0, 705.0, 696.0, 653.0, 635.0, 623.0, 643.0, 603.0, 578.0, 582.0, 573.0, 556.0, 532.0, 515.0, 504.0, 510.0, 452.0, 1789.5356285539044, 1601.7354221768833, 1082.1866278805128, 973.117195274697, 642.7150789277928, 509.25300331491184, 379.6041298509244, 335.75230499791354, 315.3921521492764, 304.6108502024586, 303.3400866256214, 290.9471796001388, 288.08727797880124, 269.439538788402, 245.18875365474466, 235.65574824814158, 228.98264446317867, 226.12274284095687, 224.2161417594443, 220.1507247576729, 218.85063464825603, 186.67067586376896, 183.22421849897154, 182.76891324984427, 181.96716007620623, 180.36431687543904, 173.69121308673058, 161.2983060485958, 154.24661538658648, 135.5591914200854, 1847.8003910763139, 1227.6075814003339, 1142.7587883123194, 572.9298782938515, 555.4861361492625, 503.663134682824, 458.5764575650885, 444.0400057768696, 382.9869082638933, 283.1699393003104, 265.7261971483924, 251.1897453541081, 238.59148713150446, 233.173448534679, 230.8387128402004, 215.333164256328, 203.03118998333466, 199.50420188179118, 193.04393816337043, 191.1057445898243, 182.12050455633096, 174.63109921272797, 172.6929056386957, 170.75471206460116, 162.0328409803711, 159.1255506186418, 152.34187310724408, 150.7800839385103, 137.009472923761, 132.64789396748353, 1884.838416566048, 1543.6366770401114, 1521.5589174236363, 582.165391286056, 363.4800720222723, 354.4482612673959, 337.8601285975067, 336.3846397571806, 320.3280873030721, 307.23372219495474, 305.2750693767658, 296.2432586206776, 279.1831716362368, 278.8955634509852, 256.1018774790434, 239.0417904916613, 213.5968229294324, 180.4894637672525, 169.797907990063, 163.77670081323387, 154.41794130657962, 141.6989411584434, 138.68833756819626, 132.35454423946607, 131.3820198908207, 126.64592320423543, 125.64238867366319, 125.64238867366316, 122.63178508169304, 115.60704336547946, 2030.197904837351, 875.1484503688462, 734.5868765389986, 695.8815156287092, 622.545042323978, 603.1923618682803, 577.3209963936553, 514.5774566217973, 443.74113178328804, 390.3128768420722, 374.0158827713722, 372.9973206419405, 297.30160913688565, 291.5123502807274, 262.9926106498795, 244.93978290347954, 241.60280592441674, 221.23156332629543, 194.74894794392387, 193.73038581369664, 189.6561372926728, 171.3220189454239, 151.96933846179948, 147.89508993792876, 145.8579656758387, 140.48840426350927, 127.18498840048687, 125.48672304811517, 124.46816091634119, 118.98448004137647, 1255.4142231380893, 704.3222701810663, 652.6250888508656, 635.0480471984331, 531.6536845347681, 451.7066557925774, 440.6666453859942, 439.63270175926385, 435.4969272523438, 419.9877728512395, 352.78143710967703, 316.91354710562837, 293.84665037562286, 260.2310263624865, 250.42101803840845, 220.43665284774792, 211.13116020111258, 201.15973618197515, 187.35045676720068, 182.58397471880355, 177.01102048956375, 155.29820430109785, 149.09454253126685, 148.06059890287347, 141.8569371319395, 139.78904987472689, 138.75510624607338, 135.65327535991818, 122.21200818268608, 120.14412092400183], \"Total\": [2030.0, 1885.0, 1848.0, 1790.0, 1602.0, 1544.0, 1522.0, 1256.0, 1228.0, 1143.0, 1082.0, 973.0, 875.0, 735.0, 705.0, 696.0, 653.0, 635.0, 623.0, 643.0, 603.0, 578.0, 582.0, 573.0, 556.0, 532.0, 515.0, 504.0, 510.0, 452.0, 1790.3408092837506, 1602.5406029096175, 1082.9918086264602, 973.9223815321425, 643.520259701602, 510.05818410670844, 380.4093106723167, 336.5574858344943, 316.19734700844174, 305.41605929209936, 304.1452674762541, 291.7523604569727, 288.89245883714204, 270.2450945789929, 245.99393453991334, 236.46092914060037, 229.7878253611023, 226.92792374132145, 225.02132266147083, 220.95592333058775, 219.65585136557547, 187.47629499807704, 184.02939944511178, 183.57413369570384, 182.77236543117303, 181.16949782540672, 174.49639404612003, 162.10348702755553, 155.05189840836462, 136.36437245115383, 1848.6024862507893, 1228.4095960242873, 1143.5608029601788, 573.7318929789784, 556.2881508367371, 504.46517610010653, 459.3784722688612, 444.842020483701, 383.78892298610936, 283.9719540619862, 266.52821192001124, 251.99176013506911, 239.39350192148424, 233.975462830044, 231.64072763622022, 216.1351790657348, 203.8332467038653, 200.3062383439438, 193.8459529957955, 191.90775942450517, 182.92253900115483, 175.433114068609, 173.49492049733738, 171.55672692606623, 162.83485585537923, 159.9275654984949, 153.14388799912294, 151.5821503844087, 137.81154127651092, 133.44993929892306, 1885.6335301078173, 1544.4317905865958, 1522.3540309704983, 582.9606109990398, 364.27518565339096, 355.2433749013376, 338.6552473183873, 337.1797533972237, 321.123200949117, 308.0288620712545, 306.07018302901156, 297.03837227694663, 279.97828530081654, 279.6906880730591, 256.896991156632, 239.8369041804822, 214.39195420780246, 181.2846022280284, 170.59302174769613, 164.57181457960664, 155.21305488506644, 142.49405496323243, 139.483451379174, 133.14968802133222, 132.17716297475775, 127.44103704291891, 126.43750251489584, 126.43750251489587, 123.42689893082448, 116.40215723464635, 2030.9900074741597, 875.9405530311095, 735.3789792098257, 696.6736183025023, 623.3371450044028, 603.9844645507243, 578.1131060600474, 515.369559315428, 444.5332566256486, 391.1049795599541, 374.80798549363095, 373.7894233644856, 298.09372274853524, 292.3044530326639, 263.78471341641193, 245.73191478381787, 242.39490870416094, 222.02366612100144, 195.54105076276858, 194.52248863360182, 190.44824011693393, 172.1141217918562, 152.76144133745254, 148.6871928207104, 146.6500685623344, 141.28052783705547, 127.97711772794162, 126.27882597840288, 125.26026384919591, 119.7766256521892, 1256.2032443569742, 705.1112914237286, 653.4141100978197, 635.8370684470058, 532.4427057950293, 452.49568420926516, 441.4556666610823, 440.4217230345558, 436.28594852846055, 420.77679413059417, 353.57045840635584, 317.7025921848983, 294.63567169402353, 261.0200824606385, 251.21003937936686, 221.22567420947775, 211.92018157049043, 201.9487932111415, 188.13947815958207, 183.37303387628185, 177.80004189387864, 156.08722573565785, 149.88356397609036, 148.84962034949146, 142.64595858987477, 140.5780713366584, 139.5441277100478, 136.44229683020873, 123.00102968406274, 120.93314243078025], \"Category\": [\"Default\", \"Default\", \"Default\", \"Default\", \"Default\", \"Default\", \"Default\", \"Default\", \"Default\", \"Default\", \"Default\", \"Default\", \"Default\", \"Default\", \"Default\", \"Default\", \"Default\", \"Default\", \"Default\", \"Default\", \"Default\", \"Default\", \"Default\", \"Default\", \"Default\", \"Default\", \"Default\", \"Default\", \"Default\", \"Default\", \"Topic1\", \"Topic1\", \"Topic1\", \"Topic1\", \"Topic1\", \"Topic1\", \"Topic1\", \"Topic1\", \"Topic1\", \"Topic1\", \"Topic1\", \"Topic1\", \"Topic1\", \"Topic1\", \"Topic1\", \"Topic1\", \"Topic1\", \"Topic1\", \"Topic1\", \"Topic1\", \"Topic1\", \"Topic1\", \"Topic1\", \"Topic1\", \"Topic1\", \"Topic1\", \"Topic1\", \"Topic1\", \"Topic1\", \"Topic1\", \"Topic2\", \"Topic2\", \"Topic2\", \"Topic2\", \"Topic2\", \"Topic2\", \"Topic2\", \"Topic2\", \"Topic2\", \"Topic2\", \"Topic2\", \"Topic2\", \"Topic2\", \"Topic2\", \"Topic2\", \"Topic2\", \"Topic2\", \"Topic2\", \"Topic2\", \"Topic2\", \"Topic2\", \"Topic2\", \"Topic2\", \"Topic2\", \"Topic2\", \"Topic2\", \"Topic2\", \"Topic2\", \"Topic2\", \"Topic2\", \"Topic3\", \"Topic3\", \"Topic3\", \"Topic3\", \"Topic3\", \"Topic3\", \"Topic3\", \"Topic3\", \"Topic3\", \"Topic3\", \"Topic3\", \"Topic3\", \"Topic3\", \"Topic3\", \"Topic3\", \"Topic3\", \"Topic3\", \"Topic3\", \"Topic3\", \"Topic3\", \"Topic3\", \"Topic3\", \"Topic3\", \"Topic3\", \"Topic3\", \"Topic3\", \"Topic3\", \"Topic3\", \"Topic3\", \"Topic3\", \"Topic4\", \"Topic4\", \"Topic4\", \"Topic4\", \"Topic4\", \"Topic4\", \"Topic4\", \"Topic4\", \"Topic4\", \"Topic4\", \"Topic4\", \"Topic4\", \"Topic4\", \"Topic4\", \"Topic4\", \"Topic4\", \"Topic4\", \"Topic4\", \"Topic4\", \"Topic4\", \"Topic4\", \"Topic4\", \"Topic4\", \"Topic4\", \"Topic4\", \"Topic4\", \"Topic4\", \"Topic4\", \"Topic4\", \"Topic4\", \"Topic5\", \"Topic5\", \"Topic5\", \"Topic5\", \"Topic5\", \"Topic5\", \"Topic5\", \"Topic5\", \"Topic5\", \"Topic5\", \"Topic5\", \"Topic5\", \"Topic5\", \"Topic5\", \"Topic5\", \"Topic5\", \"Topic5\", \"Topic5\", \"Topic5\", \"Topic5\", \"Topic5\", \"Topic5\", \"Topic5\", \"Topic5\", \"Topic5\", \"Topic5\", \"Topic5\", \"Topic5\", \"Topic5\", \"Topic5\"], \"logprob\": [30.0, 29.0, 28.0, 27.0, 26.0, 25.0, 24.0, 23.0, 22.0, 21.0, 20.0, 19.0, 18.0, 17.0, 16.0, 15.0, 14.0, 13.0, 12.0, 11.0, 10.0, 9.0, 8.0, 7.0, 6.0, 5.0, 4.0, 3.0, 2.0, 1.0, -2.2398, -2.3507, -2.7428, -2.849, -3.2638, -3.4966, -3.7904, -3.9131, -3.9757, -4.0105, -4.0147, -4.0564, -4.0663, -4.1332, -4.2275, -4.2671, -4.2959, -4.3084, -4.3169, -4.3352, -4.3411, -4.5002, -4.5188, -4.5213, -4.5257, -4.5345, -4.5722, -4.6463, -4.691, -4.8201, -2.1897, -2.5986, -2.6702, -3.3607, -3.3916, -3.4895, -3.5833, -3.6155, -3.7634, -4.0654, -4.129, -4.1852, -4.2367, -4.2596, -4.2697, -4.3392, -4.3981, -4.4156, -4.4485, -4.4586, -4.5068, -4.5488, -4.5599, -4.5712, -4.6236, -4.6417, -4.6853, -4.6956, -4.7914, -4.8237, -2.1334, -2.3331, -2.3475, -3.3082, -3.7793, -3.8044, -3.8524, -3.8567, -3.9056, -3.9474, -3.9538, -3.9838, -4.0431, -4.0442, -4.1294, -4.1984, -4.3109, -4.4793, -4.5404, -4.5765, -4.6353, -4.7213, -4.7428, -4.7895, -4.7969, -4.8336, -4.8415, -4.8415, -4.8658, -4.9248, -2.0444, -2.8859, -3.061, -3.1151, -3.2265, -3.2581, -3.3019, -3.4169, -3.565, -3.6933, -3.736, -3.7387, -3.9655, -3.9852, -4.0882, -4.1593, -4.173, -4.2611, -4.3886, -4.3938, -4.4151, -4.5167, -4.6366, -4.6638, -4.6777, -4.7152, -4.8146, -4.8281, -4.8362, -4.8813, -2.5113, -3.0893, -3.1655, -3.1928, -3.3705, -3.5335, -3.5582, -3.5606, -3.57, -3.6063, -3.7806, -3.8879, -3.9634, -4.0849, -4.1233, -4.2509, -4.294, -4.3424, -4.4135, -4.4393, -4.4703, -4.6011, -4.6419, -4.6489, -4.6917, -4.7064, -4.7138, -4.7364, -4.8407, -4.8578], \"loglift\": [30.0, 29.0, 28.0, 27.0, 26.0, 25.0, 24.0, 23.0, 22.0, 21.0, 20.0, 19.0, 18.0, 17.0, 16.0, 15.0, 14.0, 13.0, 12.0, 11.0, 10.0, 9.0, 8.0, 7.0, 6.0, 5.0, 4.0, 3.0, 2.0, 1.0, 1.5645, 1.5645, 1.5642, 1.5641, 1.5637, 1.5634, 1.5628, 1.5626, 1.5624, 1.5623, 1.5623, 1.5622, 1.5622, 1.562, 1.5617, 1.5615, 1.5614, 1.5614, 1.5614, 1.5613, 1.5613, 1.5606, 1.5606, 1.5606, 1.5605, 1.5605, 1.5603, 1.56, 1.5597, 1.559, 1.5826, 1.5824, 1.5823, 1.5816, 1.5816, 1.5814, 1.5813, 1.5812, 1.5809, 1.5802, 1.58, 1.5798, 1.5797, 1.5796, 1.5796, 1.5793, 1.5791, 1.579, 1.5789, 1.5788, 1.5786, 1.5785, 1.5784, 1.5784, 1.5781, 1.578, 1.5778, 1.5777, 1.5772, 1.577, 1.6191, 1.619, 1.619, 1.6181, 1.6173, 1.6172, 1.6171, 1.6171, 1.617, 1.6169, 1.6169, 1.6168, 1.6166, 1.6166, 1.6164, 1.6162, 1.6158, 1.6151, 1.6148, 1.6146, 1.6143, 1.6139, 1.6138, 1.6135, 1.6134, 1.6132, 1.6132, 1.6132, 1.613, 1.6126, 1.6338, 1.6333, 1.6331, 1.633, 1.6329, 1.6329, 1.6328, 1.6326, 1.6324, 1.6322, 1.6321, 1.6321, 1.6315, 1.6315, 1.6312, 1.631, 1.6309, 1.6306, 1.6301, 1.6301, 1.63, 1.6296, 1.629, 1.6288, 1.6288, 1.6286, 1.628, 1.6279, 1.6278, 1.6275, 1.6474, 1.6469, 1.6468, 1.6467, 1.6465, 1.6462, 1.6462, 1.6462, 1.6462, 1.6461, 1.6457, 1.6455, 1.6453, 1.645, 1.6448, 1.6444, 1.6442, 1.6441, 1.6438, 1.6437, 1.6435, 1.6429, 1.6427, 1.6427, 1.6424, 1.6424, 1.6423, 1.6422, 1.6415, 1.6414]}, \"token.table\": {\"Topic\": [4, 2, 2, 2, 3, 1, 1, 3, 2, 4, 3, 5, 5, 3, 5, 2, 3, 4, 1, 3, 5, 4, 1, 1, 4, 3, 3, 1, 4, 1, 2, 5, 2, 5, 2, 4, 2, 3, 1, 5, 5, 1, 1, 3, 4, 5, 4, 4, 5, 3, 1, 5, 5, 3, 1, 4, 1, 3, 4, 4, 2, 2, 1, 5, 4, 2, 4, 1, 1, 2, 4, 2, 2, 5, 3, 3, 5, 3, 5, 1, 4, 2, 2, 5, 4, 1, 4, 1, 1, 5, 3, 3, 3, 2, 2, 5, 1, 3, 3, 1, 5, 4, 4, 2, 5, 4, 2, 4, 5, 5, 3, 2, 3, 1, 1, 4, 3, 5, 3, 1, 4, 1, 5, 3, 1, 2, 4, 3, 2, 4, 5, 3, 1, 4, 2, 5, 1, 5, 3, 4, 2, 2, 2, 1, 4, 2, 5, 2, 5, 3], \"Freq\": [0.9898729975631735, 0.9942000899244374, 0.9959121158234021, 0.9952698138562642, 0.9997674450467526, 0.9973279497818659, 0.9956736922179835, 0.9921845821154368, 0.9960643152199202, 0.9972330579146524, 0.9965392855146779, 0.9953018129197261, 0.9930344989442049, 0.9965397725659418, 0.9958878982250793, 0.9967548522518376, 0.9965451049688394, 0.9988004123027905, 0.9990841956342051, 0.9966598517283861, 0.9993662363707485, 0.9978880532322719, 0.9944063315523735, 0.9954612182997105, 0.9989584386091105, 0.9996640226758267, 0.9965339875491052, 0.998050717544435, 0.9970214907393622, 0.9965715095659908, 0.9925306323741141, 0.9954715955764861, 0.997531172658546, 0.9955003278663109, 0.9958309182584989, 0.9983700498795833, 0.9981071471557803, 0.9983521854119894, 0.9991915410684301, 0.9941049975550935, 0.9951831567625388, 0.9959595160678563, 0.9971552761944821, 0.9965412812399691, 0.9976463940194001, 0.9960919387848546, 0.9992829236637125, 0.9978442681989104, 0.9977885223407639, 0.9997204210705661, 0.997925365890243, 0.9944596204131481, 0.9967583598306093, 0.9975305288931225, 0.993215830188714, 0.9950154873455894, 0.9959109318676039, 0.9965397725659416, 0.9980745877435068, 0.9995125493131347, 0.9972339594908092, 0.9991761210163117, 0.9996626588377006, 0.9970525098669855, 0.9953782648816362, 0.9995095993507935, 0.9970251747864813, 0.9974212360928484, 0.9970141866856808, 0.9996665639656244, 0.9994591289688015, 0.9987243292765577, 0.9941112241471662, 0.9986835173843351, 0.9965328029765178, 0.9929138922322119, 0.9989678087846766, 0.9965083625440943, 0.9989045548354094, 0.9986377294859226, 0.9983708044600766, 0.9979443831260917, 0.9980181763266031, 0.9918616154138387, 0.9990330934245168, 0.9957741673400627, 0.9923649028413125, 0.9983435643004285, 0.9998096399959252, 0.9961006764026759, 0.9980651493707072, 0.9965058529458259, 0.9981717867666687, 0.9984711492438995, 0.9996740855563755, 0.9991685381540382, 0.9974594388155478, 0.9965254403916776, 0.9964999350046067, 0.993192700244826, 0.9942920892408285, 0.9935160499975648, 0.9909362751069818, 0.9976843820333049, 0.9939434393529276, 0.999484647752329, 0.9966284038697447, 0.9953893828577556, 0.9981539045369667, 0.9978425161815312, 0.9965237631550182, 0.9965772885382406, 0.996499389188139, 0.9968724695350842, 0.9989240256196851, 0.9971747238779795, 0.9910940517388578, 0.9979657102879503, 0.9965022740624244, 0.9969107575852468, 0.993526842653832, 0.9990529209004403, 0.999042456326518, 0.9965042486969378, 0.9962344721462959, 0.9956359522459886, 0.9989262364576513, 0.9965105279217062, 0.9990778826326473, 0.9899388376611343, 0.992283815569298, 0.9913654471263348, 0.9953927208894111, 0.9955672126940869, 0.9983562547925244, 0.998423948903889, 0.9962132920476092, 0.9956578860792248, 0.9965011143601086, 0.997313993681286, 0.9949566685101118, 0.9961595057008205, 0.9971473487758682, 0.9935447310974291, 0.9963309433742827, 0.9948729904847847, 0.9983865778579832, 0.9947478283237291, 0.9990421578973153, 0.9965034717906183], \"Term\": [\"actually\", \"away\", \"baby\", \"bad\", \"bart\", \"barts\", \"believe\", \"best\", \"better\", \"big\", \"book\", \"boy\", \"burns\", \"car\", \"care\", \"children\", \"christmas\", \"come\", \"dad\", \"day\", \"did\", \"didnt\", \"does\", \"doesnt\", \"doing\", \"dont\", \"eat\", \"family\", \"father\", \"feel\", \"fine\", \"friends\", \"fun\", \"getting\", \"god\", \"going\", \"gonna\", \"good\", \"got\", \"grampa\", \"great\", \"guess\", \"happy\", \"hear\", \"hello\", \"help\", \"hes\", \"hey\", \"home\", \"homer\", \"homie\", \"honey\", \"hope\", \"house\", \"huh\", \"husband\", \"id\", \"idea\", \"ill\", \"im\", \"isnt\", \"ive\", \"just\", \"kids\", \"kind\", \"know\", \"let\", \"lets\", \"life\", \"like\", \"lisa\", \"little\", \"long\", \"look\", \"looks\", \"lot\", \"love\", \"maggie\", \"make\", \"man\", \"marge\", \"maybe\", \"mean\", \"miss\", \"mom\", \"money\", \"mother\", \"mr\", \"nan\", \"ned\", \"need\", \"new\", \"nice\", \"night\", \"oh\", \"okay\", \"old\", \"ooh\", \"people\", \"place\", \"play\", \"read\", \"real\", \"really\", \"remember\", \"right\", \"room\", \"said\", \"say\", \"school\", \"shes\", \"simpson\", \"sorry\", \"springfield\", \"stop\", \"sure\", \"sweet\", \"talk\", \"tell\", \"thank\", \"thanks\", \"thats\", \"theres\", \"theyre\", \"thing\", \"things\", \"think\", \"thought\", \"time\", \"told\", \"town\", \"try\", \"uh\", \"use\", \"wait\", \"want\", \"way\", \"weve\", \"whats\", \"wont\", \"work\", \"world\", \"wow\", \"wrong\", \"yeah\", \"years\", \"yes\", \"youll\", \"youre\", \"youve\"]}, \"R\": 30, \"lambda.step\": 0.01, \"plot.opts\": {\"xlab\": \"PC1\", \"ylab\": \"PC2\"}, \"topic.order\": [5, 2, 4, 3, 1]};\n",
       "\n",
       "function LDAvis_load_lib(url, callback){\n",
       "  var s = document.createElement('script');\n",
       "  s.src = url;\n",
       "  s.async = true;\n",
       "  s.onreadystatechange = s.onload = callback;\n",
       "  s.onerror = function(){console.warn(\"failed to load library \" + url);};\n",
       "  document.getElementsByTagName(\"head\")[0].appendChild(s);\n",
       "}\n",
       "\n",
       "if(typeof(LDAvis) !== \"undefined\"){\n",
       "   // already loaded: just create the visualization\n",
       "   !function(LDAvis){\n",
       "       new LDAvis(\"#\" + \"ldavis_el542781407066126073442083926953\", ldavis_el542781407066126073442083926953_data);\n",
       "   }(LDAvis);\n",
       "}else if(typeof define === \"function\" && define.amd){\n",
       "   // require.js is available: use it to load d3/LDAvis\n",
       "   require.config({paths: {d3: \"https://d3js.org/d3.v5\"}});\n",
       "   require([\"d3\"], function(d3){\n",
       "      window.d3 = d3;\n",
       "      LDAvis_load_lib(\"https://cdn.jsdelivr.net/gh/bmabey/pyLDAvis@3.3.1/pyLDAvis/js/ldavis.v3.0.0.js\", function(){\n",
       "        new LDAvis(\"#\" + \"ldavis_el542781407066126073442083926953\", ldavis_el542781407066126073442083926953_data);\n",
       "      });\n",
       "    });\n",
       "}else{\n",
       "    // require.js not available: dynamically load d3 & LDAvis\n",
       "    LDAvis_load_lib(\"https://d3js.org/d3.v5.js\", function(){\n",
       "         LDAvis_load_lib(\"https://cdn.jsdelivr.net/gh/bmabey/pyLDAvis@3.3.1/pyLDAvis/js/ldavis.v3.0.0.js\", function(){\n",
       "                 new LDAvis(\"#\" + \"ldavis_el542781407066126073442083926953\", ldavis_el542781407066126073442083926953_data);\n",
       "            })\n",
       "         });\n",
       "}\n",
       "</script>"
      ],
      "text/plain": [
       "<IPython.core.display.HTML object>"
      ]
     },
     "execution_count": 91,
     "metadata": {},
     "output_type": "execute_result"
    }
   ],
   "source": [
    "panel_w = pyLDAvis.sklearn.prepare(lda_model = lda_w, \n",
    "                                 dtm = tfidf_w, \n",
    "                                 vectorizer = tfidf_vectorizer_w, \n",
    "                                 mds = \"tsne\")\n",
    "pyLDAvis.display(panel_w)"
   ]
  },
  {
   "cell_type": "markdown",
   "metadata": {},
   "source": [
    "#### Interpretation ####\n",
    "\n",
    "As we can see, we have five very separate topics. In the first topic, we see terms like \"dad\"; \"homie\",which is Marge's nickname for Homer; \"family\"; and \"mr\". With this in mind, I would think that a main theme of the womens dialogue is \"family\". Using the same intuition for the other topics, it would seem that:\n",
    "\n",
    "1. Family\n",
    "\n",
    "2. Small talk (?)\n",
    "\n",
    "3. Being responsible\n",
    "\n",
    "4. Mother-daughter/ Family bonding\n",
    "\n",
    "5. Adult talk (adult love, adult responsibilities, etc.)\n",
    "\n",
    "Next, let's look at the Men's topic model:"
   ]
  },
  {
   "cell_type": "code",
   "execution_count": 92,
   "metadata": {},
   "outputs": [
    {
     "data": {
      "text/html": [
       "\n",
       "<link rel=\"stylesheet\" type=\"text/css\" href=\"https://cdn.jsdelivr.net/gh/bmabey/pyLDAvis@3.3.1/pyLDAvis/js/ldavis.v1.0.0.css\">\n",
       "\n",
       "\n",
       "<div id=\"ldavis_el542781407065419412483963141301\"></div>\n",
       "<script type=\"text/javascript\">\n",
       "\n",
       "var ldavis_el542781407065419412483963141301_data = {\"mdsDat\": {\"x\": [150.22215270996094, 51.16336441040039, -73.1445541381836, -66.4101333618164, 54.41732406616211], \"y\": [-72.2695541381836, -159.968017578125, 21.523815155029297, -110.60643768310547, 12.44344425201416], \"topics\": [1, 2, 3, 4, 5], \"cluster\": [1, 1, 1, 1, 1], \"Freq\": [22.031365341161155, 21.76245416782691, 19.729994763070188, 18.744708081517025, 17.73147764642473]}, \"tinfo\": {\"Term\": [\"im\", \"oh\", \"hey\", \"dont\", \"just\", \"nan\", \"like\", \"right\", \"know\", \"youre\", \"thats\", \"marge\", \"got\", \"ill\", \"uh\", \"yeah\", \"gonna\", \"bart\", \"time\", \"homer\", \"want\", \"good\", \"man\", \"think\", \"look\", \"yes\", \"little\", \"okay\", \"come\", \"ive\", \"im\", \"just\", \"nan\", \"thats\", \"got\", \"yeah\", \"homer\", \"look\", \"okay\", \"ive\", \"did\", \"hes\", \"really\", \"theres\", \"thing\", \"sir\", \"sure\", \"kids\", \"new\", \"ya\", \"ah\", \"burns\", \"things\", \"wont\", \"best\", \"doing\", \"dog\", \"hear\", \"worry\", \"eat\", \"oh\", \"dont\", \"like\", \"youre\", \"ill\", \"uh\", \"good\", \"man\", \"little\", \"come\", \"say\", \"simpson\", \"make\", \"dad\", \"lisa\", \"let\", \"life\", \"help\", \"mean\", \"place\", \"world\", \"ow\", \"weve\", \"does\", \"nice\", \"flanders\", \"heres\", \"minute\", \"kid\", \"leave\", \"know\", \"marge\", \"gonna\", \"want\", \"think\", \"boy\", \"day\", \"sorry\", \"old\", \"god\", \"son\", \"work\", \"guys\", \"money\", \"mom\", \"guy\", \"school\", \"youll\", \"thanks\", \"away\", \"bad\", \"wow\", \"eh\", \"guess\", \"baby\", \"years\", \"house\", \"lot\", \"car\", \"real\", \"right\", \"time\", \"yes\", \"way\", \"lets\", \"love\", \"going\", \"whats\", \"tell\", \"mr\", \"great\", \"didnt\", \"id\", \"big\", \"home\", \"theyre\", \"said\", \"stop\", \"youve\", \"hell\", \"moe\", \"stupid\", \"night\", \"feel\", \"krusty\", \"use\", \"today\", \"job\", \"doesnt\", \"play\", \"hey\", \"bart\", \"need\", \"people\", \"wait\", \"better\", \"huh\", \"gotta\", \"thank\", \"maybe\", \"springfield\", \"thought\", \"family\", \"hello\", \"long\", \"aw\", \"whoa\", \"ooh\", \"isnt\", \"em\", \"wanna\", \"kill\", \"remember\", \"cool\", \"woo\", \"mother\", \"talk\", \"wrong\", \"milhouse\", \"honey\"], \"Freq\": [5650.0, 5097.0, 3763.0, 3769.0, 3779.0, 3637.0, 3471.0, 2964.0, 2984.0, 2838.0, 2597.0, 2268.0, 2323.0, 2116.0, 2066.0, 2065.0, 1876.0, 1702.0, 1728.0, 1869.0, 1704.0, 1807.0, 1763.0, 1648.0, 1569.0, 1414.0, 1537.0, 1529.0, 1498.0, 1466.0, 5650.021231057106, 3778.439984830717, 3636.49790944655, 2596.4162813514454, 2322.6210416854033, 2064.7587506195105, 1868.5908275841286, 1568.5590004731125, 1528.995112959969, 1465.6724693884614, 1330.1573426030548, 1107.5228176549044, 1090.1579283533283, 1059.0995229046528, 891.9021089543206, 848.0470495569942, 820.6376374335247, 820.3614876542202, 813.9515216267317, 683.0036512318599, 657.7238122981245, 523.7023394175114, 515.4795157796414, 479.5628445291961, 433.88798903746084, 423.2011616176873, 415.4030769111191, 395.3639428920654, 381.1733963527814, 368.3823373585862, 5096.91790410038, 3769.130929273733, 3470.7215316447173, 2837.428302480783, 2115.435930707245, 2065.699339315528, 1806.4828017443117, 1763.0770192851498, 1536.9530580810344, 1497.2170141144688, 1340.1210263392068, 1339.5433397545187, 1224.2605699807448, 1155.0503596183912, 1128.503489863958, 903.9486367451304, 727.276193218212, 660.9119027036994, 629.4927051459794, 490.8785982686582, 452.7245007420481, 445.5979900193818, 433.5847674223121, 415.10288650343483, 400.883355309856, 397.5450996301047, 395.11343751553204, 373.5186544343135, 357.6009332023661, 339.327174730846, 2984.107987298821, 2267.291925527424, 1875.7864692620772, 1703.8073282661949, 1647.2053320883624, 1233.6807326151502, 1019.1175545423807, 993.6346401460806, 891.0076475809295, 869.9895351967834, 819.2908216068436, 711.3865204987801, 681.0372603208309, 677.5939523708283, 661.8160622079955, 659.4699115331638, 645.0103861462894, 594.0360478091724, 550.5354415522834, 541.4306634984065, 538.5019244722516, 538.395737480428, 525.892646175288, 518.1628973604975, 508.46646047643105, 500.96498325836154, 500.47000251307134, 474.3540219501503, 473.3027407637926, 465.4554435868265, 2963.398625291942, 1728.0349014022245, 1413.67187992506, 1272.7746526022113, 1265.413628276987, 1142.0314661953762, 1108.8048856003893, 1017.5230327307373, 1007.9056115568166, 992.9451786195866, 943.7894703971574, 933.8588672337931, 814.2067209153145, 775.6871212425565, 716.2508551130568, 714.0399645708861, 704.4225433965612, 696.5619178014827, 674.5016775207591, 596.171317516423, 553.7496116619702, 545.6548968815716, 541.9742597723599, 499.0039605520185, 476.8102422617145, 453.30099049970744, 436.20335285431247, 429.79173873722186, 423.3801246200814, 409.4882940327923, 3762.6372266194994, 1701.4710918751146, 1152.6067960202993, 1110.5968657759083, 1099.436394225429, 941.1318277092995, 801.8965061431029, 789.7495729247802, 758.0565421018692, 753.8152982994698, 694.351703718369, 669.1940290876572, 603.6490219731166, 568.1044942082427, 561.9016890255016, 549.1233092565247, 530.7557504001501, 526.0732617432031, 522.116698427239, 517.5527432022186, 512.6806023184199, 511.95592516175435, 509.09973597811126, 488.5161840059925, 456.5983340795626, 447.34908006082685, 437.3409707245954, 427.9090587528906, 425.62199742252005, 409.6125681097755], \"Total\": [5650.0, 5097.0, 3763.0, 3769.0, 3779.0, 3637.0, 3471.0, 2964.0, 2984.0, 2838.0, 2597.0, 2268.0, 2323.0, 2116.0, 2066.0, 2065.0, 1876.0, 1702.0, 1728.0, 1869.0, 1704.0, 1807.0, 1763.0, 1648.0, 1569.0, 1414.0, 1537.0, 1529.0, 1498.0, 1466.0, 5650.850998922032, 3779.2697450848186, 3637.3276686247577, 2597.246042003834, 2323.4508017791504, 2065.58851131733, 1869.4205867756361, 1569.3887634481557, 1529.8248809017239, 1466.5022285874907, 1330.9871056947995, 1108.3525768652153, 1090.987694204463, 1059.9292821170745, 892.7318681757944, 848.8768087814334, 821.4673966599782, 821.1912671571457, 814.7812862161953, 683.8334968799907, 658.553651743167, 524.5320986793116, 516.3092750430002, 480.39261276724665, 434.7177597150966, 424.0309209026949, 416.2328544980831, 396.19377342637694, 382.003155651126, 369.21209666159444, 5097.7456253614255, 3769.958604330891, 3471.5492025698636, 2838.2559677431527, 2116.2635950798385, 2066.527328781806, 1807.3104855419426, 1763.9047438301784, 1537.7807224625585, 1498.0446784968594, 1340.9486907255275, 1340.3710112396577, 1225.088249288568, 1155.878023974283, 1129.331154257303, 904.7763011495267, 728.1039190119919, 661.7395671285235, 630.3203695745962, 491.7062627198084, 453.55221355011395, 446.4256544809329, 434.4124318869876, 415.9305509732704, 401.7110593087933, 398.3727641052871, 395.9411456752114, 374.3463189176281, 358.4285975675591, 340.15483922772063, 2984.9181046572057, 2268.1020409632433, 1876.5965847018444, 1704.6174437082698, 1648.0154584950453, 1234.490858516746, 1019.9276902078972, 994.4447556061483, 891.8177889777182, 870.799663737294, 820.1009367952603, 712.1966359759799, 681.847375800719, 678.4040763674161, 662.6261776897135, 660.2800313741421, 645.8205154331249, 594.8461632982896, 551.34555704711, 542.2407789945443, 539.312039775583, 539.2058529770127, 526.7027731304171, 518.9730128601955, 509.27658652101866, 501.7750987609037, 501.2801560004592, 475.16414352616766, 474.11286862825096, 466.26558211316313, 2964.1973319968433, 1728.8336336625425, 1414.4705837201723, 1273.5733743256515, 1266.2123379653176, 1142.8301740042987, 1109.6035931989084, 1018.3217365594094, 1008.7043153858542, 993.743882449207, 944.5881742288229, 934.6575738778527, 815.0054276780579, 776.4858548972652, 717.0495900555634, 714.8386684158465, 705.2212472422673, 697.3606298186661, 675.3003813689213, 596.9700298485675, 554.5483155227438, 546.4536174411141, 542.7729911248754, 499.80266892065345, 477.60894613385796, 454.09969437609556, 437.0020567340752, 430.59044261831934, 424.1788285025541, 410.28699791839256, 3763.420927935872, 1702.254795510884, 1153.3904953649999, 1111.3805631066757, 1100.2201076103274, 941.9155287937768, 802.6804887694884, 790.5332732140009, 758.8402394097839, 754.5989956449504, 695.1354010677727, 669.9777264389307, 604.4327251316761, 568.8881923267999, 562.6854944927492, 549.9070066190843, 531.5395256081076, 526.8569843876899, 522.9004199973634, 518.3364547445956, 513.4643053714769, 512.7396406080569, 509.8834333456168, 489.2998813763576, 457.38235737337317, 448.13277743770107, 438.12467968865104, 428.6927561332744, 426.40569480333784, 410.396265493767], \"Category\": [\"Default\", \"Default\", \"Default\", \"Default\", \"Default\", \"Default\", \"Default\", \"Default\", \"Default\", \"Default\", \"Default\", \"Default\", \"Default\", \"Default\", \"Default\", \"Default\", \"Default\", \"Default\", \"Default\", \"Default\", \"Default\", \"Default\", \"Default\", \"Default\", \"Default\", \"Default\", \"Default\", \"Default\", \"Default\", \"Default\", \"Topic1\", \"Topic1\", \"Topic1\", \"Topic1\", \"Topic1\", \"Topic1\", \"Topic1\", \"Topic1\", \"Topic1\", \"Topic1\", \"Topic1\", \"Topic1\", \"Topic1\", \"Topic1\", \"Topic1\", \"Topic1\", \"Topic1\", \"Topic1\", \"Topic1\", \"Topic1\", \"Topic1\", \"Topic1\", \"Topic1\", \"Topic1\", \"Topic1\", \"Topic1\", \"Topic1\", \"Topic1\", \"Topic1\", \"Topic1\", \"Topic2\", \"Topic2\", \"Topic2\", \"Topic2\", \"Topic2\", \"Topic2\", \"Topic2\", \"Topic2\", \"Topic2\", \"Topic2\", \"Topic2\", \"Topic2\", \"Topic2\", \"Topic2\", \"Topic2\", \"Topic2\", \"Topic2\", \"Topic2\", \"Topic2\", \"Topic2\", \"Topic2\", \"Topic2\", \"Topic2\", \"Topic2\", \"Topic2\", \"Topic2\", \"Topic2\", \"Topic2\", \"Topic2\", \"Topic2\", \"Topic3\", \"Topic3\", \"Topic3\", \"Topic3\", \"Topic3\", \"Topic3\", \"Topic3\", \"Topic3\", \"Topic3\", \"Topic3\", \"Topic3\", \"Topic3\", \"Topic3\", \"Topic3\", \"Topic3\", \"Topic3\", \"Topic3\", \"Topic3\", \"Topic3\", \"Topic3\", \"Topic3\", \"Topic3\", \"Topic3\", \"Topic3\", \"Topic3\", \"Topic3\", \"Topic3\", \"Topic3\", \"Topic3\", \"Topic3\", \"Topic4\", \"Topic4\", \"Topic4\", \"Topic4\", \"Topic4\", \"Topic4\", \"Topic4\", \"Topic4\", \"Topic4\", \"Topic4\", \"Topic4\", \"Topic4\", \"Topic4\", \"Topic4\", \"Topic4\", \"Topic4\", \"Topic4\", \"Topic4\", \"Topic4\", \"Topic4\", \"Topic4\", \"Topic4\", \"Topic4\", \"Topic4\", \"Topic4\", \"Topic4\", \"Topic4\", \"Topic4\", \"Topic4\", \"Topic4\", \"Topic5\", \"Topic5\", \"Topic5\", \"Topic5\", \"Topic5\", \"Topic5\", \"Topic5\", \"Topic5\", \"Topic5\", \"Topic5\", \"Topic5\", \"Topic5\", \"Topic5\", \"Topic5\", \"Topic5\", \"Topic5\", \"Topic5\", \"Topic5\", \"Topic5\", \"Topic5\", \"Topic5\", \"Topic5\", \"Topic5\", \"Topic5\", \"Topic5\", \"Topic5\", \"Topic5\", \"Topic5\", \"Topic5\", \"Topic5\"], \"logprob\": [30.0, 29.0, 28.0, 27.0, 26.0, 25.0, 24.0, 23.0, 22.0, 21.0, 20.0, 19.0, 18.0, 17.0, 16.0, 15.0, 14.0, 13.0, 12.0, 11.0, 10.0, 9.0, 8.0, 7.0, 6.0, 5.0, 4.0, 3.0, 2.0, 1.0, -2.21, -2.6124, -2.6507, -2.9876, -3.099, -3.2167, -3.3165, -3.4915, -3.5171, -3.5594, -3.6564, -3.8396, -3.8554, -3.8843, -4.0561, -4.1065, -4.1394, -4.1397, -4.1476, -4.323, -4.3607, -4.5885, -4.6044, -4.6766, -4.7767, -4.8016, -4.8202, -4.8697, -4.9062, -4.9403, -2.3008, -2.6026, -2.6851, -2.8865, -3.1802, -3.204, -3.338, -3.3624, -3.4996, -3.5258, -3.6367, -3.6371, -3.7271, -3.7853, -3.8085, -4.0304, -4.2479, -4.3436, -4.3923, -4.641, -4.7219, -4.7378, -4.7651, -4.8087, -4.8435, -4.8519, -4.858, -4.9142, -4.9578, -5.0102, -2.7381, -3.0128, -3.2024, -3.2985, -3.3323, -3.6214, -3.8124, -3.8378, -3.9468, -3.9707, -4.0307, -4.1719, -4.2155, -4.2206, -4.2441, -4.2477, -4.2699, -4.3522, -4.4282, -4.4449, -4.4503, -4.4505, -4.474, -4.4888, -4.5077, -4.5226, -4.5236, -4.5772, -4.5794, -4.5961, -2.6938, -3.2332, -3.434, -3.539, -3.5448, -3.6473, -3.6769, -3.7628, -3.7723, -3.7872, -3.838, -3.8486, -3.9857, -4.0342, -4.1139, -4.117, -4.1305, -4.1418, -4.1739, -4.2974, -4.3712, -4.3859, -4.3927, -4.4753, -4.5208, -4.5714, -4.6098, -4.6246, -4.6396, -4.673, -2.3995, -3.1931, -3.5826, -3.6197, -3.6298, -3.7853, -3.9454, -3.9606, -4.0016, -4.0072, -4.0894, -4.1263, -4.2293, -4.29, -4.301, -4.324, -4.358, -4.3669, -4.3744, -4.3832, -4.3927, -4.3941, -4.3997, -4.441, -4.5085, -4.529, -4.5516, -4.5734, -4.5788, -4.6171], \"loglift\": [30.0, 29.0, 28.0, 27.0, 26.0, 25.0, 24.0, 23.0, 22.0, 21.0, 20.0, 19.0, 18.0, 17.0, 16.0, 15.0, 14.0, 13.0, 12.0, 11.0, 10.0, 9.0, 8.0, 7.0, 6.0, 5.0, 4.0, 3.0, 2.0, 1.0, 1.5126, 1.5125, 1.5125, 1.5124, 1.5123, 1.5123, 1.5123, 1.5122, 1.5122, 1.5121, 1.5121, 1.512, 1.5119, 1.5119, 1.5118, 1.5117, 1.5117, 1.5117, 1.5117, 1.5115, 1.5114, 1.5111, 1.5111, 1.511, 1.5108, 1.5107, 1.5107, 1.5106, 1.5105, 1.5105, 1.5248, 1.5248, 1.5247, 1.5247, 1.5246, 1.5246, 1.5245, 1.5245, 1.5244, 1.5244, 1.5244, 1.5244, 1.5243, 1.5243, 1.5243, 1.5241, 1.5238, 1.5237, 1.5237, 1.5233, 1.5232, 1.5231, 1.5231, 1.523, 1.5229, 1.5229, 1.5229, 1.5228, 1.5227, 1.5225, 1.6228, 1.6227, 1.6226, 1.6226, 1.6225, 1.6224, 1.6222, 1.6222, 1.6221, 1.6221, 1.622, 1.6219, 1.6218, 1.6218, 1.6218, 1.6218, 1.6218, 1.6217, 1.6216, 1.6215, 1.6215, 1.6215, 1.6215, 1.6215, 1.6214, 1.6214, 1.6214, 1.6213, 1.6213, 1.6213, 1.674, 1.6738, 1.6737, 1.6736, 1.6736, 1.6736, 1.6735, 1.6735, 1.6735, 1.6735, 1.6734, 1.6734, 1.6733, 1.6732, 1.6731, 1.6731, 1.6731, 1.6731, 1.6731, 1.6729, 1.6728, 1.6728, 1.6728, 1.6727, 1.6726, 1.6725, 1.6724, 1.6724, 1.6724, 1.6723, 1.7296, 1.7294, 1.7291, 1.7291, 1.7291, 1.729, 1.7289, 1.7288, 1.7288, 1.7288, 1.7287, 1.7287, 1.7285, 1.7285, 1.7284, 1.7284, 1.7284, 1.7283, 1.7283, 1.7283, 1.7283, 1.7283, 1.7283, 1.7282, 1.7281, 1.7281, 1.728, 1.728, 1.728, 1.7279]}, \"token.table\": {\"Topic\": [1, 5, 3, 3, 3, 5, 1, 5, 4, 3, 1, 3, 2, 5, 2, 3, 1, 4, 2, 4, 1, 1, 2, 1, 3, 5, 5, 4, 2, 3, 4, 3, 2, 1, 5, 4, 3, 3, 3, 1, 4, 5, 2, 2, 1, 5, 4, 1, 5, 3, 5, 4, 2, 1, 5, 1, 4, 1, 2, 1, 5, 3, 4, 2, 2, 4, 2, 2, 2, 2, 5, 1, 3, 4, 2, 2, 3, 5, 2, 5, 2, 4, 3, 3, 5, 4, 1, 5, 1, 2, 4, 2, 1, 3, 5, 2, 5, 2, 4, 3, 1, 5, 4, 4, 2, 3, 2, 1, 3, 3, 5, 4, 4, 1, 5, 4, 5, 3, 1, 1, 4, 1, 1, 3, 5, 4, 4, 2, 4, 5, 5, 3, 4, 2, 4, 5, 1, 5, 3, 2, 1, 3, 5, 1, 1, 3, 4, 3, 2, 4], \"Freq\": [0.9991592913626679, 0.9983506181805889, 0.9977117563956643, 0.9974933335739243, 0.9994214114416714, 0.9992628626958825, 0.9983489063902818, 0.9990280139080526, 0.9993742900862895, 0.999602379788105, 0.998985574608968, 0.997652734819304, 0.9993026386249657, 0.9993871215020245, 0.9992403835386852, 0.9990904353153623, 0.9992583656967253, 0.9992964547699278, 0.997762725120593, 0.997220916218955, 0.997038065388736, 0.9975687600788635, 0.9997457255021873, 0.9967170721854615, 0.9986657121126585, 0.9993508950769026, 0.999284080570618, 0.998394028342452, 0.9990642831566955, 0.9990816903467072, 0.9994560280783084, 0.9996820921946102, 0.9992748973945395, 0.9998059774802182, 0.9993254259724795, 0.9993773220490473, 0.998125118578261, 0.998061381060581, 0.9987572353714439, 0.9969868950335768, 0.9983750778094947, 0.9984387225138791, 0.9988823894395, 0.997623016234884, 0.9996818910583377, 0.9998881528418074, 0.9985362378416783, 0.999775017575707, 0.9990344320183074, 0.9974462264561336, 0.9991522295869785, 0.9987663546230332, 0.9994029122445917, 0.9998494034045148, 0.9982780277794231, 0.9996575330212936, 0.9986287605114293, 0.9996640236949295, 0.99880423166436, 0.998549342638202, 0.998557473326658, 0.999692418811835, 0.998725011039288, 0.9966049601694847, 0.9991419965923727, 0.9990425476604772, 0.9984838441558042, 0.9998417989958325, 0.9997067695723661, 0.9994923057291886, 0.9987817448655449, 0.9997522835276955, 0.9975500181526143, 0.9992735806043781, 0.999111697227363, 0.9994870789744497, 0.999514113146878, 0.9992062066761188, 0.9979052405120792, 0.9990485708603752, 0.9990748702468094, 0.9990112394044026, 0.999055006109332, 0.9994043721411879, 0.9974722281102089, 0.9992514344366341, 0.9996349878961387, 0.9996614369837716, 0.9990411092775294, 0.9982299234927293, 0.9985758482136825, 0.9998537342942896, 0.9994608004406115, 0.9990830088973044, 0.9983734022456097, 0.999046527732758, 0.9996575762440798, 0.9985636491268144, 0.9968631764474083, 0.9972857054826406, 0.9990946788770306, 0.9982673817428817, 0.9995960687286508, 0.9982682778673461, 0.999292522725076, 0.9987294992749268, 0.9997232025785796, 0.9989670953754856, 0.9986575593980389, 0.9995527598656023, 0.998366647611345, 0.9994828646710958, 0.9991698884834209, 0.9994310222634779, 0.9974329688766899, 0.9993017622953414, 0.9988927321376139, 0.9993732477886269, 0.9995202449118479, 0.9991232602657996, 0.9988267724552379, 0.9991801926178687, 0.9974641651694304, 0.9993838295085092, 0.9985406582930337, 0.999517805735433, 0.9977069747873407, 0.9997448237076464, 0.9975782974758297, 0.9988910331651932, 0.9990957397298708, 0.999637781655615, 0.9995497908976347, 0.9990505983330263, 0.9996840521537953, 0.9989849755622776, 0.9991827252193054, 0.9991640312154387, 0.998319795523409, 0.9987824697275941, 0.9973739597794261, 0.9977636500598889, 0.9983840265006507, 0.9987811406083593, 0.9997150878240727, 0.9984552865161748, 0.9996673075243923, 0.9985775090258667, 0.9995574860909563, 0.9995551885098711], \"Term\": [\"ah\", \"aw\", \"away\", \"baby\", \"bad\", \"bart\", \"best\", \"better\", \"big\", \"boy\", \"burns\", \"car\", \"come\", \"cool\", \"dad\", \"day\", \"did\", \"didnt\", \"does\", \"doesnt\", \"dog\", \"doing\", \"dont\", \"eat\", \"eh\", \"em\", \"family\", \"feel\", \"flanders\", \"god\", \"going\", \"gonna\", \"good\", \"got\", \"gotta\", \"great\", \"guess\", \"guy\", \"guys\", \"hear\", \"hell\", \"hello\", \"help\", \"heres\", \"hes\", \"hey\", \"home\", \"homer\", \"honey\", \"house\", \"huh\", \"id\", \"ill\", \"im\", \"isnt\", \"ive\", \"job\", \"just\", \"kid\", \"kids\", \"kill\", \"know\", \"krusty\", \"leave\", \"let\", \"lets\", \"life\", \"like\", \"lisa\", \"little\", \"long\", \"look\", \"lot\", \"love\", \"make\", \"man\", \"marge\", \"maybe\", \"mean\", \"milhouse\", \"minute\", \"moe\", \"mom\", \"money\", \"mother\", \"mr\", \"nan\", \"need\", \"new\", \"nice\", \"night\", \"oh\", \"okay\", \"old\", \"ooh\", \"ow\", \"people\", \"place\", \"play\", \"real\", \"really\", \"remember\", \"right\", \"said\", \"say\", \"school\", \"simpson\", \"sir\", \"son\", \"sorry\", \"springfield\", \"stop\", \"stupid\", \"sure\", \"talk\", \"tell\", \"thank\", \"thanks\", \"thats\", \"theres\", \"theyre\", \"thing\", \"things\", \"think\", \"thought\", \"time\", \"today\", \"uh\", \"use\", \"wait\", \"wanna\", \"want\", \"way\", \"weve\", \"whats\", \"whoa\", \"wont\", \"woo\", \"work\", \"world\", \"worry\", \"wow\", \"wrong\", \"ya\", \"yeah\", \"years\", \"yes\", \"youll\", \"youre\", \"youve\"]}, \"R\": 30, \"lambda.step\": 0.01, \"plot.opts\": {\"xlab\": \"PC1\", \"ylab\": \"PC2\"}, \"topic.order\": [3, 1, 2, 4, 5]};\n",
       "\n",
       "function LDAvis_load_lib(url, callback){\n",
       "  var s = document.createElement('script');\n",
       "  s.src = url;\n",
       "  s.async = true;\n",
       "  s.onreadystatechange = s.onload = callback;\n",
       "  s.onerror = function(){console.warn(\"failed to load library \" + url);};\n",
       "  document.getElementsByTagName(\"head\")[0].appendChild(s);\n",
       "}\n",
       "\n",
       "if(typeof(LDAvis) !== \"undefined\"){\n",
       "   // already loaded: just create the visualization\n",
       "   !function(LDAvis){\n",
       "       new LDAvis(\"#\" + \"ldavis_el542781407065419412483963141301\", ldavis_el542781407065419412483963141301_data);\n",
       "   }(LDAvis);\n",
       "}else if(typeof define === \"function\" && define.amd){\n",
       "   // require.js is available: use it to load d3/LDAvis\n",
       "   require.config({paths: {d3: \"https://d3js.org/d3.v5\"}});\n",
       "   require([\"d3\"], function(d3){\n",
       "      window.d3 = d3;\n",
       "      LDAvis_load_lib(\"https://cdn.jsdelivr.net/gh/bmabey/pyLDAvis@3.3.1/pyLDAvis/js/ldavis.v3.0.0.js\", function(){\n",
       "        new LDAvis(\"#\" + \"ldavis_el542781407065419412483963141301\", ldavis_el542781407065419412483963141301_data);\n",
       "      });\n",
       "    });\n",
       "}else{\n",
       "    // require.js not available: dynamically load d3 & LDAvis\n",
       "    LDAvis_load_lib(\"https://d3js.org/d3.v5.js\", function(){\n",
       "         LDAvis_load_lib(\"https://cdn.jsdelivr.net/gh/bmabey/pyLDAvis@3.3.1/pyLDAvis/js/ldavis.v3.0.0.js\", function(){\n",
       "                 new LDAvis(\"#\" + \"ldavis_el542781407065419412483963141301\", ldavis_el542781407065419412483963141301_data);\n",
       "            })\n",
       "         });\n",
       "}\n",
       "</script>"
      ],
      "text/plain": [
       "<IPython.core.display.HTML object>"
      ]
     },
     "execution_count": 92,
     "metadata": {},
     "output_type": "execute_result"
    }
   ],
   "source": [
    "panel_m = pyLDAvis.sklearn.prepare(lda_model = lda_m, \n",
    "                                 dtm = tfidf_m, \n",
    "                                 vectorizer = tfidf_vectorizer_m, \n",
    "                                 mds = \"tsne\")\n",
    "pyLDAvis.display(panel_m)"
   ]
  },
  {
   "cell_type": "markdown",
   "metadata": {},
   "source": [
    "#### Interpretation ####\n",
    "\n",
    "Topics: \n",
    "\n",
    "1. Conversations between Homer and his friends\n",
    "\n",
    "2. Wholesome conversations\n",
    "\n",
    "3. Disappointment/ regret\n",
    "\n",
    "4. Unsure (??)\n",
    "\n",
    "5. Conversations between Bart and his friends"
   ]
  },
  {
   "cell_type": "markdown",
   "metadata": {},
   "source": [
    "Though helpful visually, the topics of both models are a bit hard to discern. The topics with the questions marks are counted as still relatively uncertain; however, using the rough categories pieced together, we do see a dynamic between characters emerge. The womens topic model shows that Lisa and Marge have a strong relationship which is elaborated on in the show. Conversely, Bart and Homer both have much more time with their friends than with each other.\n",
    "\n",
    "Moreover, the womens topic model includes topics like responsibility-- named by the terms 'homer', 'bart', 'good', 'house', and 'maggie'; which I assume exemplifies Marge's responsibility as a mom. This is quite the opposite to mens' topic of disappointment/ regret-- characterized by 'know', 'marge', 'want', 'think', 'sorry'."
   ]
  },
  {
   "cell_type": "markdown",
   "metadata": {},
   "source": [
    "# Conclusions #\n",
    "\n",
    "In conclusion, American tv show, *The Simpsons*, is shown to follow the legacy of commercial gender representation.\n",
    "\n",
    "### Findings ###\n",
    "\n",
    "1. As we saw from the line plots, the distribution of men and women characters on the show has been consistently unequal. By the graph, the amount of women speaking roles has increased by less than < 10% in it's 31 seasons.\n",
    "\n",
    "2. As we can see from the unigram and bigram analysis, Marge and Lisa make up a huge part of womens' speaking roles. Following them is Edna Krabappel-- all three characters being maternal figures to Bart Simpson.\n",
    "\n",
    "3. Women are written as supportive in the show while men are allowed to experience more sadness. \n",
    "\n",
    "### Interpretations ###\n",
    "\n",
    "With this in mind, having Marge and Lisa take up such a large amount of the speaking roles means that there is even less variety for women characters as previously would've been assumed by the line plot. This means that the small < 30% of the space that women take up is made mostly of two of the main characters. \n",
    "\n",
    "Moreover, the top 3 characters all play maternal figures to Bart Simpson-- by teaching him, mothering him, or by nagging him. With this in mind, this point could link to the third point: showing that women are mostly written to support the men characters. \n",
    "\n",
    "### Feminist Critique ###\n",
    "\n",
    "Following the work of Gail T. Houston (1994), this project specifically looks at images of women and the ways in which the tv show engages with gender stereotypes. From our analysis, it seems that *The Simpsons* adopts many stereotypical ideas of the role women can play in stories by giving them little speaking roles and directing their function towards the men characters.\n",
    "\n",
    "Furthermore, an idea championed by Second-wave feminists: \"the personal is political.\" In other words, this means that the quality individual's personal life is just as much a responsibility of the greater public as a person's public life. This meant that the quality of a home-- the responsibility of which imposed on many women-- is not the responsibility of the family. Instead, the family's dynamic, financial situation, emotional situation, etc. are all products of public life and are a public responsibility. \n",
    "\n",
    "Connecting this back to *The Simpsons*, the popular tv show is set around a dysfunctional, nuclear family. Despite the many unrealistic scenarios the Simpsons may face, the way that they treat each other sets a precedent for other family dynamics. Thus, as the personal is political, the lack of proper inclusion and representation of women in the show may perpetuate harmful gender stereotypes in the home which echo out into greater society."
   ]
  },
  {
   "cell_type": "markdown",
   "metadata": {},
   "source": [
    "## Further Research ##\n",
    "\n",
    "As mentioned in this introduction, this project is constricted to a binarical lens of gender in response to the state of the data. Yet, some characters were tagged without a gender label, and we will look at them now:"
   ]
  },
  {
   "cell_type": "code",
   "execution_count": 98,
   "metadata": {},
   "outputs": [
    {
     "name": "stdout",
     "output_type": "stream",
     "text": [
      "There are 6399 characters without a gender label.\n"
     ]
    },
    {
     "data": {
      "text/html": [
       "<div>\n",
       "<style scoped>\n",
       "    .dataframe tbody tr th:only-of-type {\n",
       "        vertical-align: middle;\n",
       "    }\n",
       "\n",
       "    .dataframe tbody tr th {\n",
       "        vertical-align: top;\n",
       "    }\n",
       "\n",
       "    .dataframe thead th {\n",
       "        text-align: right;\n",
       "    }\n",
       "</style>\n",
       "<table border=\"1\" class=\"dataframe\">\n",
       "  <thead>\n",
       "    <tr style=\"text-align: right;\">\n",
       "      <th></th>\n",
       "      <th>id</th>\n",
       "      <th>name</th>\n",
       "      <th>normalized_name</th>\n",
       "      <th>gender</th>\n",
       "    </tr>\n",
       "  </thead>\n",
       "  <tbody>\n",
       "    <tr>\n",
       "      <th>20</th>\n",
       "      <td>49</td>\n",
       "      <td>Calvin</td>\n",
       "      <td>calvin</td>\n",
       "      <td>NaN</td>\n",
       "    </tr>\n",
       "    <tr>\n",
       "      <th>21</th>\n",
       "      <td>50</td>\n",
       "      <td>Martin Prince, Sr.</td>\n",
       "      <td>martin prince sr</td>\n",
       "      <td>NaN</td>\n",
       "    </tr>\n",
       "    <tr>\n",
       "      <th>22</th>\n",
       "      <td>51</td>\n",
       "      <td>Richard</td>\n",
       "      <td>richard</td>\n",
       "      <td>NaN</td>\n",
       "    </tr>\n",
       "    <tr>\n",
       "      <th>23</th>\n",
       "      <td>53</td>\n",
       "      <td>Wendell Borton</td>\n",
       "      <td>wendell borton</td>\n",
       "      <td>NaN</td>\n",
       "    </tr>\n",
       "    <tr>\n",
       "      <th>24</th>\n",
       "      <td>57</td>\n",
       "      <td>Smilin' Joe Fission</td>\n",
       "      <td>smilin joe fission</td>\n",
       "      <td>NaN</td>\n",
       "    </tr>\n",
       "    <tr>\n",
       "      <th>25</th>\n",
       "      <td>58</td>\n",
       "      <td>Rod #1</td>\n",
       "      <td>rod 1</td>\n",
       "      <td>NaN</td>\n",
       "    </tr>\n",
       "    <tr>\n",
       "      <th>26</th>\n",
       "      <td>59</td>\n",
       "      <td>Rod #2</td>\n",
       "      <td>rod 2</td>\n",
       "      <td>NaN</td>\n",
       "    </tr>\n",
       "    <tr>\n",
       "      <th>27</th>\n",
       "      <td>60</td>\n",
       "      <td>RODS</td>\n",
       "      <td>rods</td>\n",
       "      <td>NaN</td>\n",
       "    </tr>\n",
       "    <tr>\n",
       "      <th>28</th>\n",
       "      <td>61</td>\n",
       "      <td>Workman #1</td>\n",
       "      <td>workman 1</td>\n",
       "      <td>NaN</td>\n",
       "    </tr>\n",
       "    <tr>\n",
       "      <th>29</th>\n",
       "      <td>62</td>\n",
       "      <td>Foreman</td>\n",
       "      <td>foreman</td>\n",
       "      <td>NaN</td>\n",
       "    </tr>\n",
       "  </tbody>\n",
       "</table>\n",
       "</div>"
      ],
      "text/plain": [
       "    id                 name     normalized_name gender\n",
       "20  49               Calvin              calvin    NaN\n",
       "21  50   Martin Prince, Sr.    martin prince sr    NaN\n",
       "22  51              Richard             richard    NaN\n",
       "23  53       Wendell Borton      wendell borton    NaN\n",
       "24  57  Smilin' Joe Fission  smilin joe fission    NaN\n",
       "25  58               Rod #1               rod 1    NaN\n",
       "26  59               Rod #2               rod 2    NaN\n",
       "27  60                 RODS                rods    NaN\n",
       "28  61           Workman #1           workman 1    NaN\n",
       "29  62              Foreman             foreman    NaN"
      ]
     },
     "execution_count": 98,
     "metadata": {},
     "output_type": "execute_result"
    }
   ],
   "source": [
    "print('There are ' + str(len(s_char[s_char.isna().any(axis=1)])) + ' characters without a gender label.')\n",
    "s_char[s_char.isna().any(axis=1)][20:30]"
   ]
  },
  {
   "cell_type": "markdown",
   "metadata": {},
   "source": [
    "As we can see from the code above, there are 6399 characters that are tagged without a gender label. Looking at the table, we see that some of the characters are given a gender in the show. For example, Calvin and Martin Prince, Sr. are both given male genders in the show. In the case of our dataset, these may just be overlooked mistakes. However, some characters' genders aren't named in the show, like: Wendell Borton, Workman #1, or Foreman. For these characters, a decision must be made about how to handle the ambiguity in order to proceed with analysis. Yet, some characters are not even human-- like Smilin' Joe Fission, who is a mascot. Parsing through each row was out of the scope of this project as I did not have the information to make decisions on ambiguity nor the tools to achieve this goal in a timely manner.\n",
    "\n",
    "Further research could benefit in looking into the non-labeled characters to separate those that may be determined and those that are too ambiguous or not human. It would be really interesting to include other genders aside from men and women in this analysis, especially for such a popular tv show. "
   ]
  },
  {
   "cell_type": "markdown",
   "metadata": {},
   "source": [
    "## Thank you for viewing my project, I hope you enjoyed it! ##"
   ]
  },
  {
   "cell_type": "markdown",
   "metadata": {},
   "source": [
    "<img src='images/ty.gif'>\n",
    "<center> credit: <a href='https://giphy.com/gifs/season-2-the-simpsons-2x3-xT5LMwRuJUt3d8Hk3K'>giphy</a></center>"
   ]
  }
 ],
 "metadata": {
  "kernelspec": {
   "display_name": "Python 3",
   "language": "python",
   "name": "python3"
  },
  "language_info": {
   "codemirror_mode": {
    "name": "ipython",
    "version": 3
   },
   "file_extension": ".py",
   "mimetype": "text/x-python",
   "name": "python",
   "nbconvert_exporter": "python",
   "pygments_lexer": "ipython3",
   "version": "3.8.5"
  }
 },
 "nbformat": 4,
 "nbformat_minor": 4
}
