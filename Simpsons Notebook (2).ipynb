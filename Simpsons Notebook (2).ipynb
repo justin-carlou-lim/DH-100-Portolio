{
 "cells": [
  {
   "cell_type": "code",
   "execution_count": 14,
   "metadata": {},
   "outputs": [],
   "source": [
    "import pandas as pd\n",
    "import numpy as np\n",
    "import matplotlib.pyplot as plt\n",
    "import spacy\n",
    "import nltk\n",
    "import gensim\n",
    "from collections import Counter\n",
    "from string import punctuation"
   ]
  },
  {
   "cell_type": "code",
   "execution_count": 15,
   "metadata": {},
   "outputs": [],
   "source": [
    "import nltk\n",
    "from nltk.corpus import stopwords"
   ]
  },
  {
   "cell_type": "markdown",
   "metadata": {},
   "source": [
    "# EDA #"
   ]
  },
  {
   "cell_type": "code",
   "execution_count": 16,
   "metadata": {},
   "outputs": [
    {
     "name": "stderr",
     "output_type": "stream",
     "text": [
      "/Users/justincarloulim/opt/anaconda3/lib/python3.8/site-packages/IPython/core/interactiveshell.py:3146: DtypeWarning: Columns (4,5,6) have mixed types.Specify dtype option on import or set low_memory=False.\n",
      "  has_raised = await self.run_ast_nodes(code_ast.body, cell_name,\n"
     ]
    }
   ],
   "source": [
    "# Import Dataframes\n",
    "s_script = pd.read_csv('simpsons_data/simpsons_script_lines.csv')\n",
    "s_char = pd.read_csv('simpsons_data/simpsons_characters.csv')\n",
    "s_ep = pd.read_csv('simpsons_data/simpsons_episodes.csv') \n",
    "s_loc = pd.read_csv('simpsons_data/simpsons_locations.csv')"
   ]
  },
  {
   "cell_type": "code",
   "execution_count": 11,
   "metadata": {},
   "outputs": [
    {
     "data": {
      "text/plain": [
       "['id', 'name', 'normalized_name']"
      ]
     },
     "execution_count": 11,
     "metadata": {},
     "output_type": "execute_result"
    }
   ],
   "source": [
    "list(s_loc.columns)"
   ]
  },
  {
   "cell_type": "code",
   "execution_count": 17,
   "metadata": {},
   "outputs": [
    {
     "data": {
      "text/html": [
       "<div>\n",
       "<style scoped>\n",
       "    .dataframe tbody tr th:only-of-type {\n",
       "        vertical-align: middle;\n",
       "    }\n",
       "\n",
       "    .dataframe tbody tr th {\n",
       "        vertical-align: top;\n",
       "    }\n",
       "\n",
       "    .dataframe thead th {\n",
       "        text-align: right;\n",
       "    }\n",
       "</style>\n",
       "<table border=\"1\" class=\"dataframe\">\n",
       "  <thead>\n",
       "    <tr style=\"text-align: right;\">\n",
       "      <th></th>\n",
       "      <th>episode_id</th>\n",
       "      <th>normalized_name</th>\n",
       "      <th>char_id</th>\n",
       "      <th>gender</th>\n",
       "      <th>line</th>\n",
       "      <th>timestamp_in_ms</th>\n",
       "      <th>raw_location_text</th>\n",
       "    </tr>\n",
       "  </thead>\n",
       "  <tbody>\n",
       "    <tr>\n",
       "      <th>0</th>\n",
       "      <td>32</td>\n",
       "      <td>miss hoover</td>\n",
       "      <td>464</td>\n",
       "      <td>f</td>\n",
       "      <td>No, actually, it was a little of both. Sometim...</td>\n",
       "      <td>848000</td>\n",
       "      <td>Springfield Elementary School</td>\n",
       "    </tr>\n",
       "    <tr>\n",
       "      <th>1</th>\n",
       "      <td>32</td>\n",
       "      <td>miss hoover</td>\n",
       "      <td>464</td>\n",
       "      <td>f</td>\n",
       "      <td>I don't know. Although I'd sure like to talk t...</td>\n",
       "      <td>856000</td>\n",
       "      <td>Springfield Elementary School</td>\n",
       "    </tr>\n",
       "    <tr>\n",
       "      <th>2</th>\n",
       "      <td>49</td>\n",
       "      <td>miss hoover</td>\n",
       "      <td>464</td>\n",
       "      <td>f</td>\n",
       "      <td>Thank you, Ralph. Very graphic. Lisa Simpson? ...</td>\n",
       "      <td>784000</td>\n",
       "      <td>Springfield Elementary School</td>\n",
       "    </tr>\n",
       "    <tr>\n",
       "      <th>3</th>\n",
       "      <td>49</td>\n",
       "      <td>miss hoover</td>\n",
       "      <td>464</td>\n",
       "      <td>f</td>\n",
       "      <td>Dear God!</td>\n",
       "      <td>803000</td>\n",
       "      <td>Springfield Elementary School</td>\n",
       "    </tr>\n",
       "    <tr>\n",
       "      <th>4</th>\n",
       "      <td>51</td>\n",
       "      <td>miss hoover</td>\n",
       "      <td>464</td>\n",
       "      <td>f</td>\n",
       "      <td>I question the educational value of this assem...</td>\n",
       "      <td>226000</td>\n",
       "      <td>Springfield Elementary School</td>\n",
       "    </tr>\n",
       "  </tbody>\n",
       "</table>\n",
       "</div>"
      ],
      "text/plain": [
       "   episode_id normalized_name  char_id gender  \\\n",
       "0          32     miss hoover      464      f   \n",
       "1          32     miss hoover      464      f   \n",
       "2          49     miss hoover      464      f   \n",
       "3          49     miss hoover      464      f   \n",
       "4          51     miss hoover      464      f   \n",
       "\n",
       "                                                line timestamp_in_ms  \\\n",
       "0  No, actually, it was a little of both. Sometim...          848000   \n",
       "1  I don't know. Although I'd sure like to talk t...          856000   \n",
       "2  Thank you, Ralph. Very graphic. Lisa Simpson? ...          784000   \n",
       "3                                          Dear God!          803000   \n",
       "4  I question the educational value of this assem...          226000   \n",
       "\n",
       "               raw_location_text  \n",
       "0  Springfield Elementary School  \n",
       "1  Springfield Elementary School  \n",
       "2  Springfield Elementary School  \n",
       "3  Springfield Elementary School  \n",
       "4  Springfield Elementary School  "
      ]
     },
     "execution_count": 17,
     "metadata": {},
     "output_type": "execute_result"
    }
   ],
   "source": [
    "# Create a dataframe that merges both script and the character information.\n",
    "# Now, we have the gender of each character, as well as their names, the timestamp\n",
    "# of their speaking lines, and their character id.\n",
    "\n",
    "script = s_script[['episode_id', \n",
    "                   'timestamp_in_ms',\n",
    "                   'raw_location_text',\n",
    "                   'raw_character_text', \n",
    "                   'spoken_words', \n",
    "                   'word_count']].rename(columns = {'raw_character_text': 'name', \n",
    "                                                    'spoken_words': 'line'})\n",
    "chars = s_char.dropna().rename(columns = {'id': 'char_id'})\n",
    "script_table = script.merge(chars)\n",
    "script_table = script_table[['episode_id', 'normalized_name', 'char_id', 'gender' , 'line', 'timestamp_in_ms', 'raw_location_text']]\n",
    "script_table.head()"
   ]
  },
  {
   "cell_type": "markdown",
   "metadata": {},
   "source": [
    "# Gender Distribution Over Time #"
   ]
  },
  {
   "cell_type": "code",
   "execution_count": 18,
   "metadata": {},
   "outputs": [],
   "source": [
    "## Testing Idea\n",
    "test_32 = script_table[['episode_id', 'gender', 'normalized_name']]\n",
    "test_32 = test_32[test_32['episode_id'] == 32]\n",
    "test_counts = test_32.groupby('gender').count()\n",
    "#test_counts"
   ]
  },
  {
   "cell_type": "code",
   "execution_count": 22,
   "metadata": {},
   "outputs": [
    {
     "data": {
      "text/html": [
       "<div>\n",
       "<style scoped>\n",
       "    .dataframe tbody tr th:only-of-type {\n",
       "        vertical-align: middle;\n",
       "    }\n",
       "\n",
       "    .dataframe tbody tr th {\n",
       "        vertical-align: top;\n",
       "    }\n",
       "\n",
       "    .dataframe thead th {\n",
       "        text-align: right;\n",
       "    }\n",
       "</style>\n",
       "<table border=\"1\" class=\"dataframe\">\n",
       "  <thead>\n",
       "    <tr style=\"text-align: right;\">\n",
       "      <th></th>\n",
       "      <th>index</th>\n",
       "      <th>female_dist</th>\n",
       "      <th>male_dist</th>\n",
       "      <th>total</th>\n",
       "    </tr>\n",
       "  </thead>\n",
       "  <tbody>\n",
       "    <tr>\n",
       "      <th>0</th>\n",
       "      <td>0</td>\n",
       "      <td>0.278997</td>\n",
       "      <td>0.721003</td>\n",
       "      <td>1.0</td>\n",
       "    </tr>\n",
       "    <tr>\n",
       "      <th>1</th>\n",
       "      <td>1</td>\n",
       "      <td>0.233202</td>\n",
       "      <td>0.766798</td>\n",
       "      <td>1.0</td>\n",
       "    </tr>\n",
       "    <tr>\n",
       "      <th>2</th>\n",
       "      <td>2</td>\n",
       "      <td>0.257143</td>\n",
       "      <td>0.742857</td>\n",
       "      <td>1.0</td>\n",
       "    </tr>\n",
       "    <tr>\n",
       "      <th>3</th>\n",
       "      <td>3</td>\n",
       "      <td>0.291045</td>\n",
       "      <td>0.708955</td>\n",
       "      <td>1.0</td>\n",
       "    </tr>\n",
       "    <tr>\n",
       "      <th>4</th>\n",
       "      <td>4</td>\n",
       "      <td>0.188755</td>\n",
       "      <td>0.811245</td>\n",
       "      <td>1.0</td>\n",
       "    </tr>\n",
       "  </tbody>\n",
       "</table>\n",
       "</div>"
      ],
      "text/plain": [
       "   index  female_dist  male_dist  total\n",
       "0      0     0.278997   0.721003    1.0\n",
       "1      1     0.233202   0.766798    1.0\n",
       "2      2     0.257143   0.742857    1.0\n",
       "3      3     0.291045   0.708955    1.0\n",
       "4      4     0.188755   0.811245    1.0"
      ]
     },
     "execution_count": 22,
     "metadata": {},
     "output_type": "execute_result"
    }
   ],
   "source": [
    "## Create counts table\n",
    "gdt = script_table[['episode_id', 'gender', 'normalized_name']].sort_values(['episode_id'])\n",
    "counts_gdt = gdt.groupby(['episode_id', 'gender']).count()\n",
    "counts_gdt\n",
    "\n",
    "m_dist = []\n",
    "f_dist = []\n",
    "\n",
    "n = len(counts_gdt)\n",
    "for i in range(n):\n",
    "    if i % 2 == 0:\n",
    "        f_dist.append(counts_gdt.iloc[i][0])\n",
    "    else:\n",
    "        m_dist.append(counts_gdt.iloc[i][0])\n",
    "\n",
    "        \n",
    "gdt_table = pd.DataFrame({'female_dist': f_dist, 'male_dist': m_dist}).reset_index()\n",
    "gdt_table['total'] = [a + b for a, b in zip(f_dist, m_dist)]\n",
    "gdt_table['female_dist'] = gdt_table['female_dist']/ gdt_table['total']\n",
    "gdt_table['male_dist'] = gdt_table['male_dist']/ gdt_table['total']\n",
    "gdt_table['total'] = gdt_table['total']/ gdt_table['total']\n",
    "gdt_table.head()"
   ]
  },
  {
   "cell_type": "code",
   "execution_count": 67,
   "metadata": {},
   "outputs": [
    {
     "data": {
      "image/png": "[encoded data removed]",
      "text/plain": [
       "<Figure size 432x288 with 1 Axes>"
      ]
     },
     "metadata": {
      "needs_background": "light"
     },
     "output_type": "display_data"
    }
   ],
   "source": [
    "## Graph Distributions\n",
    "\n",
    "def create_avgs(tbl, n):\n",
    "    f = []\n",
    "    m = []\n",
    "\n",
    "    i = 0\n",
    "    while i < len(tbl):\n",
    "        if i + n > len(tbl):\n",
    "            f.append(np.mean(tbl['female_dist'][i:]))\n",
    "            m.append(np.mean(tbl['male_dist'][i:]))\n",
    "        else:\n",
    "            f.append(np.mean(tbl['female_dist'][i:i+n]))\n",
    "            m.append(np.mean(tbl['male_dist'][i:i+n]))\n",
    "        i += n\n",
    "        \n",
    "    return f, m\n",
    "\n",
    "\n",
    "f_avgs, m_avgs = create_avgs(gdt_table, 200)\n",
    "plt.figure(figsize= (6,4))\n",
    "plt.plot(f_avgs, label= 'Female dist')\n",
    "plt.plot(m_avgs, label= 'Male dist')\n",
    "plt.ylabel('Percentage of Speaking Lines Over Time')\n",
    "plt.xlabel('Time')\n",
    "plt.title('Percentage of Speaking Lines Over Time for each gender (AVG 200)')\n",
    "plt.legend()\n",
    "plt.show();"
   ]
  },
  {
   "cell_type": "markdown",
   "metadata": {},
   "source": [
    "# Network Analysis Model #"
   ]
  },
  {
   "cell_type": "code",
   "execution_count": 178,
   "metadata": {},
   "outputs": [
    {
     "data": {
      "text/html": [
       "<div>\n",
       "<style scoped>\n",
       "    .dataframe tbody tr th:only-of-type {\n",
       "        vertical-align: middle;\n",
       "    }\n",
       "\n",
       "    .dataframe tbody tr th {\n",
       "        vertical-align: top;\n",
       "    }\n",
       "\n",
       "    .dataframe thead th {\n",
       "        text-align: right;\n",
       "    }\n",
       "</style>\n",
       "<table border=\"1\" class=\"dataframe\">\n",
       "  <thead>\n",
       "    <tr style=\"text-align: right;\">\n",
       "      <th></th>\n",
       "      <th>episode_id</th>\n",
       "      <th>normalized_name</th>\n",
       "      <th>char_id</th>\n",
       "      <th>gender</th>\n",
       "      <th>line</th>\n",
       "      <th>timestamp_in_ms</th>\n",
       "      <th>raw_location_text</th>\n",
       "    </tr>\n",
       "  </thead>\n",
       "  <tbody>\n",
       "    <tr>\n",
       "      <th>72629</th>\n",
       "      <td>1</td>\n",
       "      <td>marge simpson</td>\n",
       "      <td>1</td>\n",
       "      <td>f</td>\n",
       "      <td>Ooo, careful, Homer.</td>\n",
       "      <td>8000.0</td>\n",
       "      <td>Car</td>\n",
       "    </tr>\n",
       "    <tr>\n",
       "      <th>57449</th>\n",
       "      <td>1</td>\n",
       "      <td>homer simpson</td>\n",
       "      <td>2</td>\n",
       "      <td>m</td>\n",
       "      <td>There's no time to be careful.</td>\n",
       "      <td>10000.0</td>\n",
       "      <td>Car</td>\n",
       "    </tr>\n",
       "    <tr>\n",
       "      <th>57450</th>\n",
       "      <td>1</td>\n",
       "      <td>homer simpson</td>\n",
       "      <td>2</td>\n",
       "      <td>m</td>\n",
       "      <td>We're late.</td>\n",
       "      <td>10000.0</td>\n",
       "      <td>Car</td>\n",
       "    </tr>\n",
       "    <tr>\n",
       "      <th>72630</th>\n",
       "      <td>1</td>\n",
       "      <td>marge simpson</td>\n",
       "      <td>1</td>\n",
       "      <td>f</td>\n",
       "      <td>Sorry, Excuse us. Pardon me...</td>\n",
       "      <td>24000.0</td>\n",
       "      <td>Auditorium</td>\n",
       "    </tr>\n",
       "    <tr>\n",
       "      <th>57451</th>\n",
       "      <td>1</td>\n",
       "      <td>homer simpson</td>\n",
       "      <td>2</td>\n",
       "      <td>m</td>\n",
       "      <td>Hey, Norman. How's it going? So you got dragge...</td>\n",
       "      <td>26000.0</td>\n",
       "      <td>Auditorium</td>\n",
       "    </tr>\n",
       "    <tr>\n",
       "      <th>...</th>\n",
       "      <td>...</td>\n",
       "      <td>...</td>\n",
       "      <td>...</td>\n",
       "      <td>...</td>\n",
       "      <td>...</td>\n",
       "      <td>...</td>\n",
       "      <td>...</td>\n",
       "    </tr>\n",
       "    <tr>\n",
       "      <th>72670</th>\n",
       "      <td>1</td>\n",
       "      <td>marge simpson</td>\n",
       "      <td>1</td>\n",
       "      <td>f</td>\n",
       "      <td>Take it, Homer!</td>\n",
       "      <td>1358000.0</td>\n",
       "      <td>Simpson Home</td>\n",
       "    </tr>\n",
       "    <tr>\n",
       "      <th>57565</th>\n",
       "      <td>1</td>\n",
       "      <td>homer simpson</td>\n",
       "      <td>2</td>\n",
       "      <td>m</td>\n",
       "      <td>RUDOLPH WITH YOUR NOSE... OVER HERE... / SO YO...</td>\n",
       "      <td>1360000.0</td>\n",
       "      <td>Simpson Home</td>\n",
       "    </tr>\n",
       "    <tr>\n",
       "      <th>72671</th>\n",
       "      <td>1</td>\n",
       "      <td>marge simpson</td>\n",
       "      <td>1</td>\n",
       "      <td>f</td>\n",
       "      <td>Oh, Homer.</td>\n",
       "      <td>1365000.0</td>\n",
       "      <td>Simpson Home</td>\n",
       "    </tr>\n",
       "    <tr>\n",
       "      <th>11043</th>\n",
       "      <td>1</td>\n",
       "      <td>lisa simpson</td>\n",
       "      <td>9</td>\n",
       "      <td>f</td>\n",
       "      <td>THEN ALL THE REINDEER LOVED HIM / AS THEY SHOU...</td>\n",
       "      <td>1366000.0</td>\n",
       "      <td>Simpson Home</td>\n",
       "    </tr>\n",
       "    <tr>\n",
       "      <th>25401</th>\n",
       "      <td>1</td>\n",
       "      <td>bart simpson</td>\n",
       "      <td>8</td>\n",
       "      <td>m</td>\n",
       "      <td>Like Attila the Hun!</td>\n",
       "      <td>1379000.0</td>\n",
       "      <td>Simpson Home</td>\n",
       "    </tr>\n",
       "  </tbody>\n",
       "</table>\n",
       "<p>319 rows × 7 columns</p>\n",
       "</div>"
      ],
      "text/plain": [
       "       episode_id normalized_name  char_id gender  \\\n",
       "72629           1   marge simpson        1      f   \n",
       "57449           1   homer simpson        2      m   \n",
       "57450           1   homer simpson        2      m   \n",
       "72630           1   marge simpson        1      f   \n",
       "57451           1   homer simpson        2      m   \n",
       "...           ...             ...      ...    ...   \n",
       "72670           1   marge simpson        1      f   \n",
       "57565           1   homer simpson        2      m   \n",
       "72671           1   marge simpson        1      f   \n",
       "11043           1    lisa simpson        9      f   \n",
       "25401           1    bart simpson        8      m   \n",
       "\n",
       "                                                    line  timestamp_in_ms  \\\n",
       "72629                               Ooo, careful, Homer.           8000.0   \n",
       "57449                     There's no time to be careful.          10000.0   \n",
       "57450                                        We're late.          10000.0   \n",
       "72630                     Sorry, Excuse us. Pardon me...          24000.0   \n",
       "57451  Hey, Norman. How's it going? So you got dragge...          26000.0   \n",
       "...                                                  ...              ...   \n",
       "72670                                    Take it, Homer!        1358000.0   \n",
       "57565  RUDOLPH WITH YOUR NOSE... OVER HERE... / SO YO...        1360000.0   \n",
       "72671                                         Oh, Homer.        1365000.0   \n",
       "11043  THEN ALL THE REINDEER LOVED HIM / AS THEY SHOU...        1366000.0   \n",
       "25401                               Like Attila the Hun!        1379000.0   \n",
       "\n",
       "      raw_location_text  \n",
       "72629               Car  \n",
       "57449               Car  \n",
       "57450               Car  \n",
       "72630        Auditorium  \n",
       "57451        Auditorium  \n",
       "...                 ...  \n",
       "72670      Simpson Home  \n",
       "57565      Simpson Home  \n",
       "72671      Simpson Home  \n",
       "11043      Simpson Home  \n",
       "25401      Simpson Home  \n",
       "\n",
       "[319 rows x 7 columns]"
      ]
     },
     "execution_count": 178,
     "metadata": {},
     "output_type": "execute_result"
    }
   ],
   "source": [
    "srt_st = script_table.sort_values(by = ['episode_id', 'timestamp_in_ms'])\n",
    "srt_st[srt_st['episode_id'] == 1]"
   ]
  },
  {
   "cell_type": "markdown",
   "metadata": {},
   "source": [
    "# Topic Model #"
   ]
  },
  {
   "cell_type": "code",
   "execution_count": 44,
   "metadata": {},
   "outputs": [],
   "source": [
    "spacy.load('en_core_web_sm')\n",
    "from spacy.lang.en import English\n",
    "from nltk.corpus import wordnet as wn\n",
    "from nltk.stem.wordnet import WordNetLemmatizer\n",
    "\n",
    "parser = English()\n",
    "en_stop = set(nltk.corpus.stopwords.words('english'))"
   ]
  },
  {
   "cell_type": "code",
   "execution_count": 85,
   "metadata": {},
   "outputs": [],
   "source": [
    "def tokenize(text):\n",
    "    lda_tokens = []\n",
    "    tokens = parser(text)\n",
    "    for token in tokens:\n",
    "        if token.orth_.isspace():\n",
    "            continue\n",
    "        elif token.like_url:\n",
    "            lda_tokens.append('URL')\n",
    "        elif token.orth_.startswith('@'):\n",
    "            lda_tokens.append('SCREEN_NAME')\n",
    "        elif type(token) != str:\n",
    "            continue\n",
    "        else:\n",
    "            lda_tokens.append(token.lower_)\n",
    "    return lda_tokens\n",
    "\n",
    "def get_lemma(word):\n",
    "    lemma = wn.morphy(word)\n",
    "    if lemma is None:\n",
    "        return word\n",
    "    else:\n",
    "        return lemma\n",
    "    \n",
    "def get_lemma2(word):\n",
    "    return WordNetLemmatizer().lemmatize(word)\n",
    "\n",
    "def prepare_text_for_lda(text):\n",
    "    tokens = text.lower()\n",
    "    for char in punctuation:\n",
    "        tokens = tokens.replace(char, '')\n",
    "    tokens = tokens.split()\n",
    "    return tokens"
   ]
  },
  {
   "cell_type": "code",
   "execution_count": 114,
   "metadata": {},
   "outputs": [],
   "source": [
    "#script_table['line']"
   ]
  },
  {
   "cell_type": "code",
   "execution_count": 103,
   "metadata": {},
   "outputs": [
    {
     "data": {
      "text/plain": [
       "111314"
      ]
     },
     "execution_count": 103,
     "metadata": {},
     "output_type": "execute_result"
    }
   ],
   "source": [
    "# Lower and remove punctuation from each line, and put\n",
    "# Into a 2d list\n",
    "text_data = []\n",
    "for line in script_table['line']:\n",
    "    if type(line) != str:\n",
    "        continue\n",
    "    tokens = prepare_text_for_lda(line)\n",
    "    text_data.append(tokens)"
   ]
  },
  {
   "cell_type": "code",
   "execution_count": 115,
   "metadata": {},
   "outputs": [],
   "source": [
    "quarter_index = int(len(text_data)/4)\n",
    "text_data_quarter = text_data[: quarter_index]"
   ]
  },
  {
   "cell_type": "code",
   "execution_count": 112,
   "metadata": {},
   "outputs": [],
   "source": [
    "from gensim import corpora\n",
    "dictionary = corpora.Dictionary(text_data)\n",
    "corpus = [dictionary.doc2bow(text) for text in text_data_quarter]\n",
    "import pickle\n",
    "pickle.dump(corpus, open('corpus.pkl', 'wb'))\n",
    "dictionary.save('dictionary.gensim')"
   ]
  },
  {
   "cell_type": "code",
   "execution_count": 113,
   "metadata": {},
   "outputs": [
    {
     "name": "stdout",
     "output_type": "stream",
     "text": [
      "(0, '0.045*\"i\" + 0.043*\"the\" + 0.032*\"a\" + 0.027*\"to\"')\n",
      "(1, '0.026*\"okay\" + 0.014*\"gotta\" + 0.009*\"kid\" + 0.007*\"thank\"')\n",
      "(2, '0.036*\"oh\" + 0.027*\"no\" + 0.020*\"my\" + 0.020*\"im\"')\n",
      "(3, '0.061*\"you\" + 0.031*\"what\" + 0.028*\"do\" + 0.027*\"hey\"')\n",
      "(4, '0.022*\"uh\" + 0.008*\"a\" + 0.008*\"cool\" + 0.007*\"um\"')\n"
     ]
    }
   ],
   "source": [
    "import gensim\n",
    "NUM_TOPICS = 5\n",
    "ldamodel = gensim.models.ldamodel.LdaModel(corpus, num_topics = NUM_TOPICS, id2word=dictionary, passes=15)\n",
    "ldamodel.save('model5.gensim')\n",
    "topics = ldamodel.print_topics(num_words=4)\n",
    "for topic in topics:\n",
    "    print(topic)"
   ]
  }
 ],
 "metadata": {
  "kernelspec": {
   "display_name": "Python 3",
   "language": "python",
   "name": "python3"
  },
  "language_info": {
   "codemirror_mode": {
    "name": "ipython",
    "version": 3
   },
   "file_extension": ".py",
   "mimetype": "text/x-python",
   "name": "python",
   "nbconvert_exporter": "python",
   "pygments_lexer": "ipython3",
   "version": "3.8.5"
  }
 },
 "nbformat": 4,
 "nbformat_minor": 4
}
